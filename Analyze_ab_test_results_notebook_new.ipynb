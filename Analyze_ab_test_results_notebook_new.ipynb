{
 "cells": [
  {
   "cell_type": "markdown",
   "metadata": {},
   "source": [
    "## Analyze A/B Test Results\n",
    "\n",
    "This project will assure you have mastered the subjects covered in the statistics lessons.  The hope is to have this project be as comprehensive of these topics as possible.  Good luck!\n",
    "\n",
    "Corresponding with this notebook is a slide deck where you will need to update all the portions in red.  Completing the notebook will provide all the results needed for the slides.  **Correctly completing the slides is a required part of the project.**\n",
    "\n",
    "## Table of Contents\n",
    "- [Introduction](#intro)\n",
    "- [Part I - Descriptive Statistics](#descriptive)\n",
    "- [Part II - Probability](#probability)\n",
    "- [Part III - Experimentation](#experimentation)\n",
    "- [Part IV - Algorithms](#algorithms)\n",
    "\n",
    "\n",
    "<a id='intro'></a>\n",
    "### Introduction\n",
    "\n",
    "A/B tests are very commonly performed by data analysts and data scientists.  For this project, you will be working to understand the results of an A/B test run by an e-commerce website.  Your goal is to work through this notebook to help the company understand if they should implement the new page, keep the old page, or perhaps run the experiment longer to make their decision.\n",
    "\n",
    "**As you work through this notebook, follow along in the classroom and answer the corresponding quiz questions associated with each question.** The labels for each classroom concept are provided for each question.  This will assure you are on the right track as you work through the project, and you can feel more confident in your final submission meeting the criteria.  As a final check, assure you meet all the criteria on the [RUBRIC](https://review.udacity.com/#!/projects/37e27304-ad47-4eb0-a1ab-8c12f60e43d0/rubric).\n",
    "\n",
    "<a id='descriptive'></a>\n",
    "#### Part I - Descriptive Statistics\n",
    "\n",
    "To get started, let's import our libraries."
   ]
  },
  {
   "cell_type": "code",
   "execution_count": 1,
   "metadata": {},
   "outputs": [],
   "source": [
    "import pandas as pd\n",
    "import numpy as np\n",
    "import random\n",
    "import matplotlib.pyplot as plt\n",
    "%matplotlib inline\n",
    "#We are setting the seed to assure you get the same answers on quizzes as we set up\n",
    "random.seed(0)"
   ]
  },
  {
   "cell_type": "markdown",
   "metadata": {},
   "source": [
    "For each of the parts of question `1` notice links to [pandas documentation](https://pandas.pydata.org/) is provided to assist with answering the questions.  Though there are other ways you could solve the questions, the documentation is provided to assist you with one fast way to find the answer to each question.\n",
    "\n",
    "\n",
    "`1.a)` Now, read in the `ab_data.csv` data. Store it in `df`. Read in the dataset and take a look at the top few rows here. **This question is completed for you**:"
   ]
  },
  {
   "cell_type": "code",
   "execution_count": 2,
   "metadata": {},
   "outputs": [
    {
     "data": {
      "text/html": [
       "<div>\n",
       "<style scoped>\n",
       "    .dataframe tbody tr th:only-of-type {\n",
       "        vertical-align: middle;\n",
       "    }\n",
       "\n",
       "    .dataframe tbody tr th {\n",
       "        vertical-align: top;\n",
       "    }\n",
       "\n",
       "    .dataframe thead th {\n",
       "        text-align: right;\n",
       "    }\n",
       "</style>\n",
       "<table border=\"1\" class=\"dataframe\">\n",
       "  <thead>\n",
       "    <tr style=\"text-align: right;\">\n",
       "      <th></th>\n",
       "      <th>country</th>\n",
       "      <th>group</th>\n",
       "      <th>converted</th>\n",
       "    </tr>\n",
       "  </thead>\n",
       "  <tbody>\n",
       "    <tr>\n",
       "      <th>0</th>\n",
       "      <td>UK</td>\n",
       "      <td>control</td>\n",
       "      <td>0</td>\n",
       "    </tr>\n",
       "    <tr>\n",
       "      <th>1</th>\n",
       "      <td>US</td>\n",
       "      <td>treatment</td>\n",
       "      <td>1</td>\n",
       "    </tr>\n",
       "    <tr>\n",
       "      <th>2</th>\n",
       "      <td>UK</td>\n",
       "      <td>treatment</td>\n",
       "      <td>0</td>\n",
       "    </tr>\n",
       "    <tr>\n",
       "      <th>3</th>\n",
       "      <td>UK</td>\n",
       "      <td>control</td>\n",
       "      <td>0</td>\n",
       "    </tr>\n",
       "    <tr>\n",
       "      <th>4</th>\n",
       "      <td>UK</td>\n",
       "      <td>treatment</td>\n",
       "      <td>0</td>\n",
       "    </tr>\n",
       "  </tbody>\n",
       "</table>\n",
       "</div>"
      ],
      "text/plain": [
       "  country      group  converted\n",
       "0      UK    control          0\n",
       "1      US  treatment          1\n",
       "2      UK  treatment          0\n",
       "3      UK    control          0\n",
       "4      UK  treatment          0"
      ]
     },
     "execution_count": 2,
     "metadata": {},
     "output_type": "execute_result"
    }
   ],
   "source": [
    "#Control group-users with old page, treatment group-new page, \n",
    "#converted-user pays for the product\n",
    "df = pd.read_csv('ab_data.csv')\n",
    "df.head()"
   ]
  },
  {
   "cell_type": "markdown",
   "metadata": {},
   "source": [
    "`b)` Use the below cell to find the number of rows in the dataset. [Helpful  Pandas Link](https://pandas.pydata.org/docs/reference/api/pandas.DataFrame.shape.html#pandas.DataFrame.shape)"
   ]
  },
  {
   "cell_type": "code",
   "execution_count": 3,
   "metadata": {},
   "outputs": [
    {
     "data": {
      "text/plain": [
       "(69889, 3)"
      ]
     },
     "execution_count": 3,
     "metadata": {},
     "output_type": "execute_result"
    }
   ],
   "source": [
    "df.shape"
   ]
  },
  {
   "cell_type": "markdown",
   "metadata": {
    "collapsed": true
   },
   "source": [
    "`c)` The proportion of users converted.  [Helpful  Pandas Link](https://pandas.pydata.org/docs/reference/api/pandas.DataFrame.mean.html)"
   ]
  },
  {
   "cell_type": "code",
   "execution_count": 4,
   "metadata": {},
   "outputs": [
    {
     "data": {
      "text/plain": [
       "0.13047832992316388"
      ]
     },
     "execution_count": 4,
     "metadata": {},
     "output_type": "execute_result"
    }
   ],
   "source": [
    "df['converted'].mean()"
   ]
  },
  {
   "cell_type": "markdown",
   "metadata": {},
   "source": [
    "`d)` Do any of the rows have missing values? [Helpful Pandas Link One](https://pandas.pydata.org/docs/reference/api/pandas.DataFrame.isnull.html) and [Helpful Pandas Link Two](https://pandas.pydata.org/docs/reference/api/pandas.DataFrame.sum.html)"
   ]
  },
  {
   "cell_type": "code",
   "execution_count": 5,
   "metadata": {},
   "outputs": [
    {
     "data": {
      "text/html": [
       "<div>\n",
       "<style scoped>\n",
       "    .dataframe tbody tr th:only-of-type {\n",
       "        vertical-align: middle;\n",
       "    }\n",
       "\n",
       "    .dataframe tbody tr th {\n",
       "        vertical-align: top;\n",
       "    }\n",
       "\n",
       "    .dataframe thead th {\n",
       "        text-align: right;\n",
       "    }\n",
       "</style>\n",
       "<table border=\"1\" class=\"dataframe\">\n",
       "  <thead>\n",
       "    <tr style=\"text-align: right;\">\n",
       "      <th></th>\n",
       "      <th>country</th>\n",
       "      <th>group</th>\n",
       "      <th>converted</th>\n",
       "    </tr>\n",
       "  </thead>\n",
       "  <tbody>\n",
       "  </tbody>\n",
       "</table>\n",
       "</div>"
      ],
      "text/plain": [
       "Empty DataFrame\n",
       "Columns: [country, group, converted]\n",
       "Index: []"
      ]
     },
     "execution_count": 5,
     "metadata": {},
     "output_type": "execute_result"
    }
   ],
   "source": [
    "df[pd.isnull(df).any(axis = 1)]\n",
    "#isnull gives the boolean value of every value whether it has null or not\n",
    "# any checks the null in any column in a row, and gives the overall result\n",
    "#pd.isnull(df).any(axis = 1) gives the overall result True or False\n",
    "#df[] gives the value which is True\n",
    "#result shows that there are no null values"
   ]
  },
  {
   "cell_type": "markdown",
   "metadata": {},
   "source": [
    "`e)` How many customers are from each country? Build a bar chart to show the count of visits from each country."
   ]
  },
  {
   "cell_type": "code",
   "execution_count": 6,
   "metadata": {},
   "outputs": [
    {
     "data": {
      "text/plain": [
       "country\n",
       "CA     3488\n",
       "UK    17551\n",
       "US    48850\n",
       "Name: group, dtype: int64"
      ]
     },
     "execution_count": 6,
     "metadata": {},
     "output_type": "execute_result"
    }
   ],
   "source": [
    "# number of visitors from each country - pull the necessary code from the next cell to provide just the counts\n",
    "df.groupby('country').count()['group']\n"
   ]
  },
  {
   "cell_type": "code",
   "execution_count": 7,
   "metadata": {},
   "outputs": [
    {
     "data": {
      "image/png": "[encoded data removed]",
      "text/plain": [
       "<Figure size 640x480 with 1 Axes>"
      ]
     },
     "metadata": {},
     "output_type": "display_data"
    }
   ],
   "source": [
    "# bar chart of results - this part is done for you\n",
    "df['country'].value_counts().plot(kind='bar');\n",
    "plt.title('Number of Visits From Each Country');\n",
    "plt.ylabel('Count of Visits');\n",
    "plt.show();"
   ]
  },
  {
   "cell_type": "markdown",
   "metadata": {},
   "source": [
    "`f)` Recognize that all of your columns are of a **categorical data type** with the exception of one.  Which column is not **categorical**? [Helpful Pandas Link](https://pandas.pydata.org/docs/reference/api/pandas.DataFrame.info.html)"
   ]
  },
  {
   "cell_type": "code",
   "execution_count": 8,
   "metadata": {},
   "outputs": [
    {
     "data": {
      "text/html": [
       "<div>\n",
       "<style scoped>\n",
       "    .dataframe tbody tr th:only-of-type {\n",
       "        vertical-align: middle;\n",
       "    }\n",
       "\n",
       "    .dataframe tbody tr th {\n",
       "        vertical-align: top;\n",
       "    }\n",
       "\n",
       "    .dataframe thead th {\n",
       "        text-align: right;\n",
       "    }\n",
       "</style>\n",
       "<table border=\"1\" class=\"dataframe\">\n",
       "  <thead>\n",
       "    <tr style=\"text-align: right;\">\n",
       "      <th></th>\n",
       "      <th>converted</th>\n",
       "    </tr>\n",
       "  </thead>\n",
       "  <tbody>\n",
       "    <tr>\n",
       "      <th>0</th>\n",
       "      <td>0</td>\n",
       "    </tr>\n",
       "    <tr>\n",
       "      <th>1</th>\n",
       "      <td>1</td>\n",
       "    </tr>\n",
       "    <tr>\n",
       "      <th>2</th>\n",
       "      <td>0</td>\n",
       "    </tr>\n",
       "    <tr>\n",
       "      <th>3</th>\n",
       "      <td>0</td>\n",
       "    </tr>\n",
       "    <tr>\n",
       "      <th>4</th>\n",
       "      <td>0</td>\n",
       "    </tr>\n",
       "    <tr>\n",
       "      <th>...</th>\n",
       "      <td>...</td>\n",
       "    </tr>\n",
       "    <tr>\n",
       "      <th>69884</th>\n",
       "      <td>0</td>\n",
       "    </tr>\n",
       "    <tr>\n",
       "      <th>69885</th>\n",
       "      <td>0</td>\n",
       "    </tr>\n",
       "    <tr>\n",
       "      <th>69886</th>\n",
       "      <td>0</td>\n",
       "    </tr>\n",
       "    <tr>\n",
       "      <th>69887</th>\n",
       "      <td>0</td>\n",
       "    </tr>\n",
       "    <tr>\n",
       "      <th>69888</th>\n",
       "      <td>0</td>\n",
       "    </tr>\n",
       "  </tbody>\n",
       "</table>\n",
       "<p>69889 rows × 1 columns</p>\n",
       "</div>"
      ],
      "text/plain": [
       "       converted\n",
       "0              0\n",
       "1              1\n",
       "2              0\n",
       "3              0\n",
       "4              0\n",
       "...          ...\n",
       "69884          0\n",
       "69885          0\n",
       "69886          0\n",
       "69887          0\n",
       "69888          0\n",
       "\n",
       "[69889 rows x 1 columns]"
      ]
     },
     "execution_count": 8,
     "metadata": {},
     "output_type": "execute_result"
    }
   ],
   "source": [
    "df[['converted']]"
   ]
  },
  {
   "cell_type": "markdown",
   "metadata": {},
   "source": [
    "`g)` What are the possible values of the `converted` column?  Does it make sense that these values are the only possible values? Why or why not? \n",
    "\n",
    "**Here you can use one of the functions you used in an earlier question**."
   ]
  },
  {
   "cell_type": "code",
   "execution_count": 9,
   "metadata": {},
   "outputs": [
    {
     "data": {
      "text/plain": [
       "array([0, 1])"
      ]
     },
     "execution_count": 9,
     "metadata": {},
     "output_type": "execute_result"
    }
   ],
   "source": [
    "df['converted'].unique()\n",
    "#It has only 2 values - either 0 or 1. These are the only possible values as\n",
    "#there will be either the user pay for the product or the user will not."
   ]
  },
  {
   "cell_type": "markdown",
   "metadata": {},
   "source": [
    "<a id='probability'></a>\n",
    "#### Part II - Probability\n",
    "\n",
    "`1.` Now that you have had a chance to learn more about the dataset, let's look more at how different factors are related to `converting`.\n",
    "\n",
    "`a)` What is the probability of an individual converting regardless of the page they receive or the country they are from? Simply, what is the chance of conversion in the dataset?"
   ]
  },
  {
   "cell_type": "code",
   "execution_count": 10,
   "metadata": {},
   "outputs": [
    {
     "data": {
      "text/plain": [
       "0.13047832992316388"
      ]
     },
     "execution_count": 10,
     "metadata": {},
     "output_type": "execute_result"
    }
   ],
   "source": [
    "df['converted'].mean()\n",
    "#13% probability that the user converts"
   ]
  },
  {
   "cell_type": "markdown",
   "metadata": {},
   "source": [
    "`b)` Given that an individual was in the `control` group, what is the probability they converted? **This question is completed for you**"
   ]
  },
  {
   "cell_type": "code",
   "execution_count": 11,
   "metadata": {},
   "outputs": [
    {
     "data": {
      "text/plain": [
       "0.1052540515600669"
      ]
     },
     "execution_count": 11,
     "metadata": {},
     "output_type": "execute_result"
    }
   ],
   "source": [
    "df.query('group == \"control\"')['converted'].mean()"
   ]
  },
  {
   "cell_type": "markdown",
   "metadata": {},
   "source": [
    "`c)` Given that an individual was in the `treatment` group, what is the probability they converted?"
   ]
  },
  {
   "cell_type": "code",
   "execution_count": 12,
   "metadata": {},
   "outputs": [
    {
     "data": {
      "text/plain": [
       "0.15532078043793132"
      ]
     },
     "execution_count": 12,
     "metadata": {},
     "output_type": "execute_result"
    }
   ],
   "source": [
    "df.loc[df['group'] == \"treatment\"]['converted'].mean()"
   ]
  },
  {
   "cell_type": "markdown",
   "metadata": {},
   "source": [
    "`d)` Do you see evidence that the treatment is related to higher `converted` rates?"
   ]
  },
  {
   "cell_type": "code",
   "execution_count": 13,
   "metadata": {},
   "outputs": [
    {
     "data": {
      "text/plain": [
       "True"
      ]
     },
     "execution_count": 13,
     "metadata": {},
     "output_type": "execute_result"
    }
   ],
   "source": [
    "df.loc[df['group'] == \"treatment\"]['converted'].mean() > df.query('group == \"control\"')['converted'].mean()"
   ]
  },
  {
   "cell_type": "markdown",
   "metadata": {},
   "source": [
    "`e)` What is the probability that an individual was in the `treatment`?"
   ]
  },
  {
   "cell_type": "code",
   "execution_count": 14,
   "metadata": {},
   "outputs": [
    {
     "data": {
      "text/plain": [
       "0.5038131894861853"
      ]
     },
     "execution_count": 14,
     "metadata": {},
     "output_type": "execute_result"
    }
   ],
   "source": [
    "df[df['group'] == \"treatment\"]['group'].count()/df['group'].count()"
   ]
  },
  {
   "cell_type": "markdown",
   "metadata": {},
   "source": [
    "`f)` What is the probability that an individual was from Canada `CA`?"
   ]
  },
  {
   "cell_type": "code",
   "execution_count": 15,
   "metadata": {},
   "outputs": [
    {
     "data": {
      "text/plain": [
       "0.04990771079855199"
      ]
     },
     "execution_count": 15,
     "metadata": {},
     "output_type": "execute_result"
    }
   ],
   "source": [
    "df[df['country'] == \"CA\"]['country'].count()/df['country'].count()"
   ]
  },
  {
   "cell_type": "markdown",
   "metadata": {},
   "source": [
    "`g)` Given that an individual was in the `US`, what was the probability that they `converted`? **This question is completed for you**\n",
    "\n",
    "$P(\\text{converted} == 1|\\text{country} ==\\text{\"US\"})$\n",
    "\n"
   ]
  },
  {
   "cell_type": "code",
   "execution_count": 16,
   "metadata": {},
   "outputs": [
    {
     "data": {
      "text/plain": [
       "0.13277379733879222"
      ]
     },
     "execution_count": 16,
     "metadata": {},
     "output_type": "execute_result"
    }
   ],
   "source": [
    "df.query('country == \"US\"')['converted'].mean()"
   ]
  },
  {
   "cell_type": "markdown",
   "metadata": {},
   "source": [
    "`h)` Given that an individual was in the `UK`, what was the probability that they `converted`? \n",
    "\n",
    "$P(\\text{converted} == 1|\\text{country} ==\\text{\"UK\"})$"
   ]
  },
  {
   "cell_type": "code",
   "execution_count": 17,
   "metadata": {},
   "outputs": [
    {
     "data": {
      "text/plain": [
       "0.12512107572218106"
      ]
     },
     "execution_count": 17,
     "metadata": {},
     "output_type": "execute_result"
    }
   ],
   "source": [
    "df[df['country'] == \"UK\"]['converted'].mean()"
   ]
  },
  {
   "cell_type": "markdown",
   "metadata": {},
   "source": [
    "`i)` Do you see evidence that the `converted` rate might differ from one country to the next?"
   ]
  },
  {
   "cell_type": "code",
   "execution_count": 18,
   "metadata": {},
   "outputs": [],
   "source": [
    "#yes"
   ]
  },
  {
   "cell_type": "markdown",
   "metadata": {},
   "source": [
    "`j)` Consider the table below, fill in the conversion rates below to look at how conversion by country and treatment group vary.  The `US` column is done for you, and two methods for calculating the probabilities are shown - **COMPLETE THE REST OF THE TABLE**.  Does it appear that there could be an interaction between how country and treatment impact conversion?\n",
    "\n",
    "These two values that are filled in can be written as:\n",
    "\n",
    "$P(\\text{converted} == 1|(\\text{country} ==\\text{\"US\" AND }\\text{group} ==\\text{\"control\"})) = 10.7\\%$\n",
    "\n",
    "$P(\\text{converted} == 1|(\\text{country} ==\\text{\"US\" AND }\\text{group} ==\\text{\"treatment\"})) = 15.8\\%$\n",
    "\n",
    "|             | US          | UK          | CA          |\n",
    "| ----------- | ----------- | ----------- | ----------- |\n",
    "| Control     | 10.7%       |  %          |  %          |\n",
    "| Treatment   | 15.8%       |  %          |  %          |"
   ]
  },
  {
   "cell_type": "code",
   "execution_count": 19,
   "metadata": {},
   "outputs": [
    {
     "name": "stdout",
     "output_type": "stream",
     "text": [
      "0.10731404958677686\n",
      "0.1577687626774848\n"
     ]
    }
   ],
   "source": [
    "# Method 1  - explicitly calculate each probability\n",
    "print(df.query('country == \"US\" and group == \"control\" and converted == 1').shape[0]/df.query('country == \"US\" and group == \"control\"').shape[0]) \n",
    "print(df.query('country == \"US\" and group == \"treatment\" and converted == 1').shape[0]/df.query('country == \"US\" and group == \"treatment\"').shape[0])"
   ]
  },
  {
   "cell_type": "code",
   "execution_count": 20,
   "metadata": {},
   "outputs": [
    {
     "data": {
      "text/plain": [
       "group\n",
       "control      0.107314\n",
       "treatment    0.157769\n",
       "Name: converted, dtype: float64"
      ]
     },
     "execution_count": 20,
     "metadata": {},
     "output_type": "execute_result"
    }
   ],
   "source": [
    "# Method 2 - quickly calculate using `groupby`\n",
    "df.query('country == \"US\"').groupby('group')['converted'].mean()"
   ]
  },
  {
   "cell_type": "markdown",
   "metadata": {},
   "source": [
    "##### Solution -- Complete the Table Here\n",
    "\n",
    "|             | US          | UK          | CA          |\n",
    "| ----------- | ----------- | ----------- | ----------- |\n",
    "| Control     | 10.7%       |  %          |  %          |\n",
    "| Treatment   | 15.8%       |  %          |  %          |"
   ]
  },
  {
   "cell_type": "code",
   "execution_count": 21,
   "metadata": {},
   "outputs": [
    {
     "name": "stdout",
     "output_type": "stream",
     "text": [
      "UK Control group - 0.10164866401364411\n",
      "UK Treatment group - 0.148698035632709\n",
      "CA Control group - 0.0944741532976827\n",
      "CA Treatment group - 0.15401662049861495\n"
     ]
    }
   ],
   "source": [
    "print(\"UK Control group -\", df.loc[(df['group'] == \"control\") & (df['country'] == 'UK') ]['converted'].mean())\n",
    "print(\"UK Treatment group -\",df.loc[(df['group'] == \"treatment\") & (df['country'] == 'UK') ]['converted'].mean())\n",
    "print(\"CA Control group -\",df.loc[(df['group'] == \"control\") & (df['country'] == 'CA') ]['converted'].mean())\n",
    "print(\"CA Treatment group -\",df.loc[(df['group'] == \"treatment\") & (df['country'] == 'CA') ]['converted'].mean())"
   ]
  },
  {
   "cell_type": "markdown",
   "metadata": {},
   "source": [
    "<a id='experimentation'></a>\n",
    "### Part III - Experimentation\n",
    "\n",
    "`1.` Consider you need to make the decision just based on all the data provided.  If you want to assume that the control page is better unless the treatment page proves to be definitely better at a Type I error rate of 5%, you state your null and alternative hypotheses in terms of **$p_{control}$** and **$p_{treatment}$** as:  \n",
    "\n",
    "$H_{0}: p_{control} >= p_{treatment}$\n",
    "\n",
    "$H_{1}: p_{control} < p_{treatment}$\n",
    "\n",
    "Which is equivalent to:\n",
    "\n",
    "$H_{0}: p_{treatment} - p_{control} <= 0$\n",
    "\n",
    "$H_{1}: p_{treatment} - p_{control} > 0$\n",
    "\n",
    "\n",
    "Where  \n",
    "* **$p_{control}$** is the `converted` rate for the control page\n",
    "* **$p_{treatment}$** `converted` rate for the treatment page\n",
    "\n",
    "**Note for this experiment we are not looking at differences associated with country.**"
   ]
  },
  {
   "cell_type": "markdown",
   "metadata": {},
   "source": [
    "Assume under the null hypothesis, $p_{treatment}$ and $p_{control}$ both have \"true\" success rates equal to the **converted** success rate regardless of page - that is $p_{treatment}$ and $p_{control}$ are equal. Furthermore, assume they are equal to the **converted** rate in `df` regardless of the page. **These are set in the first cell below.**<br><br>\n",
    "\n",
    "* Use a sample size for each page equal to the ones in `df`. **These are also set below.**  <br><br>\n",
    "\n",
    "* Perform the sampling distribution for the difference in `converted` between the two pages over 500 iterations of calculating an estimate from the null.  <br><br>\n",
    "\n",
    "* Use the cells below to provide the necessary parts of this simulation.  \n",
    "\n",
    "If this doesn't make complete sense right now, don't worry - you are going to work through the problems below to complete this problem.  You can use **Quiz 4** in the classroom to make sure you are on the right track.<br><br>"
   ]
  },
  {
   "cell_type": "markdown",
   "metadata": {},
   "source": [
    "`a)` The **convert rate** for $p_{treatment}$ under the null.  The **convert rate** for $p_{control}$ under the null. The sample size for the `control` and the sample size for the `treatment` are from the original dataset. **All of these values are set below, and set the stage for the simulations you will run for the rest of this section.**"
   ]
  },
  {
   "cell_type": "code",
   "execution_count": 32,
   "metadata": {},
   "outputs": [
    {
     "data": {
      "text/plain": [
       "(0.13047832992316388, 35211, 34678)"
      ]
     },
     "execution_count": 32,
     "metadata": {},
     "output_type": "execute_result"
    }
   ],
   "source": [
    "p_control_treatment_null  = df['converted'].mean()\n",
    "n_treatment = df.query('group == \"treatment\"').shape[0]\n",
    "n_control = df.query('group == \"control\"').shape[0]\n",
    "p_control_treatment_null, n_treatment, n_control"
   ]
  },
  {
   "cell_type": "markdown",
   "metadata": {},
   "source": [
    "`b)` Use the results from part `a)` to simulate `n_treatment` transactions with a convert rate of `p_treatment_null`.  Store these $n_{treatment}$ 1's and 0's in a `list` of **treatment_converted**.  It should look something like the following (the 0's and and 1's **don't** need to be the same): \n",
    "\n",
    "`[0, 0, 1, 1, 0, ....]` "
   ]
  },
  {
   "cell_type": "code",
   "execution_count": 42,
   "metadata": {},
   "outputs": [
    {
     "data": {
      "text/plain": [
       "0.13191900258441963"
      ]
     },
     "execution_count": 42,
     "metadata": {},
     "output_type": "execute_result"
    }
   ],
   "source": [
    "treatment_converted = np.random.choice([0,1], n_treatment, replace = True, p = [(1-p_control_treatment_null),p_control_treatment_null] )\n",
    "p_treatment_null = treatment_converted.mean()\n",
    "p_treatment_null"
   ]
  },
  {
   "cell_type": "markdown",
   "metadata": {},
   "source": [
    "`c)` Use the results from part `a)` to simulate `n_control` transactions with a convert rate of `p_control_null`.  Store these $n_{treatment}$ 1's and 0's in a `list` of **control_converted**.  It should look something like the following (the 0's and and 1's **don't** need to be exactly the same): \n",
    "\n",
    "`[0, 0, 1, 1, 0, ....]` "
   ]
  },
  {
   "cell_type": "code",
   "execution_count": 43,
   "metadata": {},
   "outputs": [
    {
     "data": {
      "text/plain": [
       "0.1310340850106696"
      ]
     },
     "execution_count": 43,
     "metadata": {},
     "output_type": "execute_result"
    }
   ],
   "source": [
    "control_converted = np.random.choice([0,1], n_control, replace = True, p = [(1-p_control_treatment_null),p_control_treatment_null] )\n",
    "p_control_null = control_converted.mean()\n",
    "p_control_null"
   ]
  },
  {
   "cell_type": "markdown",
   "metadata": {},
   "source": [
    "`d)` Find the estimate for $p_{treatment}$ - $p_{control}$ under the null using the simulated values from part `(b)` and `(c)`."
   ]
  },
  {
   "cell_type": "code",
   "execution_count": 44,
   "metadata": {},
   "outputs": [
    {
     "data": {
      "text/plain": [
       "0.0008849175737500325"
      ]
     },
     "execution_count": 44,
     "metadata": {},
     "output_type": "execute_result"
    }
   ],
   "source": [
    "p_treatment_null - p_control_null"
   ]
  },
  {
   "cell_type": "markdown",
   "metadata": {},
   "source": [
    "`e)` Simulate 500 $p_{treatment}$ - $p_{control}$ values using this same process as `b)`- `d)` similarly to the one you calculated in parts **a. through g.** above.  Store all 500 values in an numpy array called **p_diffs**.  This array should look similar to the below **(the values will not match AND this will likely take a bit of time to run)**:\n",
    "\n",
    "`[0.001, -0.003, 0.002, ...]`"
   ]
  },
  {
   "cell_type": "code",
   "execution_count": 45,
   "metadata": {},
   "outputs": [
    {
     "data": {
      "text/plain": [
       "[0.00031426716725277415,\n",
       " -0.00017552067186585307,\n",
       " 0.006445194678156296,\n",
       " 0.001788922863937642,\n",
       " -0.00023886876274673008,\n",
       " 0.0003959757298723221,\n",
       " -0.006683017617163778,\n",
       " -0.0001055708698165514,\n",
       " 0.0005366672772410264,\n",
       " -0.002870458576544055,\n",
       " -0.003939627034423437,\n",
       " -0.0004900785732043222,\n",
       " 0.003320324940334962,\n",
       " -0.002738087756811086,\n",
       " 0.0015127778965583483,\n",
       " 0.0024556326313182886,\n",
       " 0.001221764542345738,\n",
       " -0.0012979704505376999,\n",
       " -0.0017707343757426275,\n",
       " 0.0007166718057806387,\n",
       " -0.0023570721383286697,\n",
       " 0.001586192757527638,\n",
       " -0.0021434022406038866,\n",
       " 0.00460223622274189,\n",
       " -0.0006399638694350729,\n",
       " 0.0025238093649294913,\n",
       " -0.0001239583675406719,\n",
       " 0.0006423839235850382,\n",
       " 0.0007931422410420996,\n",
       " -0.0015251721772708282,\n",
       " 0.0019308969171604184,\n",
       " -0.0048999151677248665,\n",
       " 0.003865140142698731,\n",
       " -0.002983622929297436,\n",
       " 0.002679342273146035,\n",
       " 0.0008582634003611034,\n",
       " -0.0023671389084170824,\n",
       " -0.006851672869760933,\n",
       " -0.0018161855314834385,\n",
       " 0.0011942103217450484,\n",
       " 0.001802018182332804,\n",
       " -0.0005831634377518047,\n",
       " 0.0022144895909490814,\n",
       " 0.001422312095689937,\n",
       " 0.0006686286123462337,\n",
       " 0.000873514245836704,\n",
       " 0.0007848485393918136,\n",
       " 0.0037650981343259615,\n",
       " -0.0009016499346088114,\n",
       " 0.0016608630983655503,\n",
       " -0.0016990925832114645,\n",
       " 0.0028820723795560943,\n",
       " -0.002173985009511381,\n",
       " -0.00045122912863201914,\n",
       " -0.004168111267010638,\n",
       " 0.0006091820909985002,\n",
       " 0.0024503945039602293,\n",
       " 0.0013318462948214982,\n",
       " -0.0017825742142691392,\n",
       " 0.0028606563335251967,\n",
       " -0.004231486383876937,\n",
       " 0.002696393213045184,\n",
       " -0.0009453550478969452,\n",
       " -0.004268153275383435,\n",
       " -0.0018908558723213509,\n",
       " -0.003911636303209537,\n",
       " -0.00108566413662331,\n",
       " -0.0002917405989114885,\n",
       " 0.0020759805966462652,\n",
       " -0.0005661395238380773,\n",
       " -0.00016152530625890282,\n",
       " -0.0017257197306149996,\n",
       " -0.002651577577446662,\n",
       " 0.0010614300173843183,\n",
       " -0.0016025156337586555,\n",
       " -0.002230348930581494,\n",
       " 0.0035885856906917035,\n",
       " -0.0004219558915640187,\n",
       " 0.0033784078778723026,\n",
       " -0.003846132685248249,\n",
       " 0.001861874188308299,\n",
       " 0.0013712133279633054,\n",
       " -0.0004013858407740656,\n",
       " 0.00044710152358434785,\n",
       " 0.0013633291109408086,\n",
       " 0.001308711232323373,\n",
       " 0.0005073940401730259,\n",
       " -0.0015627391159890869,\n",
       " -0.0004429084009962836,\n",
       " 0.00014956753615960605,\n",
       " 0.002223656313825706,\n",
       " -0.0016868432600572192,\n",
       " -0.0019917979279059084,\n",
       " 0.0015158064448651254,\n",
       " 0.002061985231039315,\n",
       " 0.004532749957291166,\n",
       " -0.00043327814152105404,\n",
       " 0.0003356561872982222,\n",
       " 0.0009124177423799062,\n",
       " 0.0012623870553562233,\n",
       " -0.0014552764271923702,\n",
       " 0.00472284828190464,\n",
       " -0.0022255473138366177,\n",
       " -0.003749965220423146,\n",
       " -0.003929587290320474,\n",
       " -0.0020616936779843664,\n",
       " -0.002909798583700468,\n",
       " 0.00270468691469547,\n",
       " -0.0031745402231664055,\n",
       " -0.0027018033239469275,\n",
       " -0.0003174947250886295,\n",
       " -0.005402879403194949,\n",
       " 0.0006908906536180204,\n",
       " 0.006384465650954463,\n",
       " 0.00441352850792423,\n",
       " 5.650969759757318e-05,\n",
       " -0.0006993563388119906,\n",
       " -0.0013324818149637596,\n",
       " 0.0006388918386796283,\n",
       " 0.00045495871462145066,\n",
       " 0.003288842124215652,\n",
       " 0.0015228176406613392,\n",
       " 0.001928714364094558,\n",
       " -9.992325783073075e-05,\n",
       " -0.00343363425064655,\n",
       " 8.444637684063006e-05,\n",
       " -0.0010703322131914161,\n",
       " 0.004239990560625878,\n",
       " 0.0038463701863323263,\n",
       " 0.0057858785652141476,\n",
       " 0.003712226298161231,\n",
       " 0.006035369359204484,\n",
       " 0.0015638766642849522,\n",
       " 0.004226512783588404,\n",
       " -0.0013311722831242379,\n",
       " 0.002201803757181653,\n",
       " 0.0025338220830470326,\n",
       " 0.0037231390634905326,\n",
       " -0.003805483146252342,\n",
       " 0.002339849214885892,\n",
       " 0.002679342273146035,\n",
       " -0.005602090398714177,\n",
       " -0.0029281320294536894,\n",
       " -0.003973728914221736,\n",
       " -0.0006228859035504741,\n",
       " 0.0058854840629737615,\n",
       " -9.203904080817837e-05,\n",
       " 0.0007870310924577018,\n",
       " 0.002085583830136045,\n",
       " 0.00213362702357045,\n",
       " 0.0015936134379515576,\n",
       " -0.0006596068470278438,\n",
       " 0.0037756014150275297,\n",
       " -0.0009117167046972241,\n",
       " -0.0036293801872458176,\n",
       " 0.000288922525703339,\n",
       " -0.0018165950161111444,\n",
       " -0.0034615979558750287,\n",
       " 0.0011479131707633206,\n",
       " -0.0011572518771835738,\n",
       " 0.0015748164555997035,\n",
       " 0.0027256664501131844,\n",
       " 0.0019195206152325117,\n",
       " -0.0004154082323664099,\n",
       " -0.0010838910681851832,\n",
       " -0.002369757972096126,\n",
       " -0.002673839618718421,\n",
       " 0.0014686092466716372,\n",
       " 0.0059186858955602994,\n",
       " 0.00014430238281612495,\n",
       " 0.003079127847994856,\n",
       " -0.0015435056230240496,\n",
       " -0.00032802503177564724,\n",
       " -0.00041581771699417125,\n",
       " 0.003656762424302906,\n",
       " 0.0013296907677410874,\n",
       " -0.004809939929440454,\n",
       " 0.00017316613525636404,\n",
       " -0.0007972428201043213,\n",
       " 0.001309174768921978,\n",
       " 0.004046044718450159,\n",
       " -9.893967575475004e-06,\n",
       " -0.0003371917546522718,\n",
       " -0.001197055420938592,\n",
       " 0.001890274404149933,\n",
       " -0.0031483225603906317,\n",
       " 0.0002483000126928814,\n",
       " 0.0016167485004496829,\n",
       " 0.000264477931365692,\n",
       " 0.003252584717336915,\n",
       " -0.00029566919443002604,\n",
       " 0.0009381988945425246,\n",
       " -0.0017479817718867863,\n",
       " 0.0023839638128017315,\n",
       " 0.0002723351224027948,\n",
       " -0.001761540626880581,\n",
       " 0.0011461671283106156,\n",
       " -0.0025484259428107947,\n",
       " -0.0020896303572273955,\n",
       " 0.0025788367281746327,\n",
       " 3.2447561902237965e-05,\n",
       " -0.00040796052595706844,\n",
       " 0.00042393943510077303,\n",
       " -0.001791250374561737,\n",
       " 0.004056084462553122,\n",
       " -0.0003852619740720986,\n",
       " 0.0002513555869850803,\n",
       " 0.00028592100338201143,\n",
       " -0.004757968140487484,\n",
       " 0.001982486247471049,\n",
       " 0.0036466956542144935,\n",
       " 0.00011156408682819197,\n",
       " 0.0002601398512193931,\n",
       " -0.0020376585682744253,\n",
       " 0.00018099630030804503,\n",
       " 0.003193165221974603,\n",
       " 0.0022655613326902635,\n",
       " 0.001389492721745711,\n",
       " 0.0007481546218999213,\n",
       " 0.0009858055773637464,\n",
       " -0.0019489658358441686,\n",
       " -7.632465873400052e-05,\n",
       " -0.0009541663381166798,\n",
       " 0.0008944937812543907,\n",
       " -0.001061138464329342,\n",
       " 0.0020934410211731758,\n",
       " 0.002342441252579458,\n",
       " 0.0007927057304289442,\n",
       " 9.628621536714177e-05,\n",
       " -0.0006556782515092785,\n",
       " -0.0002777182073190887,\n",
       " -0.001649712831952116,\n",
       " 0.0011273701459587615,\n",
       " -0.0029704735589314024,\n",
       " 0.00029988934300353987,\n",
       " 0.00024655397024017645,\n",
       " -0.0004975262796137192,\n",
       " 0.002851953147247177,\n",
       " 0.0020960871108376133,\n",
       " 0.0035287296847162086,\n",
       " 0.000680850909515085,\n",
       " 0.0007442260263813838,\n",
       " -0.0005114946192352199,\n",
       " -0.001068122634140134,\n",
       " -0.005767690077019133,\n",
       " 0.00029069559414146573,\n",
       " 0.0005095765932388863,\n",
       " -0.0010834005056011564,\n",
       " 0.0013065557052429344,\n",
       " 0.001373368855043744,\n",
       " 0.0017133254499025197,\n",
       " -0.0031391558375139794,\n",
       " -0.0044547595150915,\n",
       " -0.002067831852554214,\n",
       " -0.0015133593647297383,\n",
       " -0.0019218751518420285,\n",
       " -0.001061602000927947,\n",
       " 5.738271882393953e-05,\n",
       " -0.001511640348262483,\n",
       " -0.0003022168536276071,\n",
       " -0.0004748007017432998,\n",
       " 0.003704805617737311,\n",
       " 0.0011492227026028423,\n",
       " -0.0018393205939815638,\n",
       " 0.00043575224764186293,\n",
       " 0.003034549713480411,\n",
       " 6.526693584646415e-05,\n",
       " -0.0012205999680644508,\n",
       " 0.001257148927998164,\n",
       " 0.0022476643975501975,\n",
       " 0.002089102941026877,\n",
       " -0.003729012710990881,\n",
       " 0.00017444864111043623,\n",
       " -0.0025916945454857176,\n",
       " 0.002325007854037997,\n",
       " 0.0019125094194363257,\n",
       " 0.00311934087637758,\n",
       " 0.0008617554852664577,\n",
       " 0.0029738206862785777,\n",
       " 6.82684581677917e-05,\n",
       " 0.0013314368101937646,\n",
       " -0.0020616936779843664,\n",
       " 0.0016691568000158086,\n",
       " -0.0013862266723548289,\n",
       " -0.003446729569041712,\n",
       " -0.006226022126003927,\n",
       " 0.00253428561964561,\n",
       " 0.000423093439859884,\n",
       " -0.001740151606835133,\n",
       " -0.005172185591556466,\n",
       " 0.000810166154955827,\n",
       " -0.0015495897456230534,\n",
       " 0.0009469831587768374,\n",
       " -0.00386356608378971,\n",
       " 0.0006262600568830712,\n",
       " 0.006482271054290528,\n",
       " 0.0017517383838616951,\n",
       " 0.003450049670403438,\n",
       " -0.002695692175362502,\n",
       " 0.001726857278910865,\n",
       " -0.0015299467680302825,\n",
       " 0.00043438866383149755,\n",
       " -0.001273962366813236,\n",
       " 0.002173403541340019,\n",
       " -0.0017877582896563549,\n",
       " 0.004268444828438384,\n",
       " -0.0006722926807952723,\n",
       " -0.0023531435428101044,\n",
       " 2.851896638370044e-05,\n",
       " 0.0018540169972711962,\n",
       " -0.002600888294347764,\n",
       " 0.0025141791054542617,\n",
       " 0.0016294343342171114,\n",
       " -0.0020459522699247112,\n",
       " -0.0001493300350755289,\n",
       " 0.0001473849830937457,\n",
       " -0.0002484719962365378,\n",
       " 0.002671048571495749,\n",
       " -0.003951385794993656,\n",
       " -0.006082302030328446,\n",
       " -0.0015850011572609013,\n",
       " 0.0014725648681756243,\n",
       " -8.9010492501429e-05,\n",
       " 0.002708206025586274,\n",
       " -0.0011109547262018737,\n",
       " -0.0023055098340034608,\n",
       " 0.003530912237782069,\n",
       " -0.00040837001058480205,\n",
       " 0.0020047753147282854,\n",
       " -0.000835273295421185,\n",
       " 0.0033482616195779635,\n",
       " -0.0022168171015731486,\n",
       " -8.199929670524297e-05,\n",
       " 0.0015040206583094573,\n",
       " 0.001145294107084277,\n",
       " -0.006586467693696363,\n",
       " -0.00504107025169212,\n",
       " -0.00019560016007180714,\n",
       " -0.0008203778826024744,\n",
       " 0.004057830505005827,\n",
       " -0.004143230162059808,\n",
       " 0.0020444977805269826,\n",
       " 0.006762835179772414,\n",
       " 0.0019505398947531893,\n",
       " 0.0009032510195033094,\n",
       " -0.0011336803040722931,\n",
       " 5.78192294371227e-05,\n",
       " -0.0002336306353886708,\n",
       " -0.0009147993049748449,\n",
       " -0.004931861520442726,\n",
       " 0.00019149958100958542,\n",
       " 0.0018190420962465315,\n",
       " -0.000674911744474288,\n",
       " 0.0007328767504388711,\n",
       " 0.0019689003664918603,\n",
       " -0.0013159214376486372,\n",
       " 0.0060777649406530965,\n",
       " -0.0009305407130345,\n",
       " -0.006433553849158863,\n",
       " -0.0016470667422876784,\n",
       " -0.0009012404499811055,\n",
       " -0.0020241537652515296,\n",
       " 0.006790825910986287,\n",
       " -0.0004935976840951539,\n",
       " -0.002065622273502904,\n",
       " 0.0010662316341291944,\n",
       " 0.004586548866653106,\n",
       " -3.3519592657654806e-05,\n",
       " 0.0047735375650035106,\n",
       " 0.0003750232204400572,\n",
       " 0.0033858826102670936,\n",
       " 0.001445474184173512,\n",
       " 0.0040613225899111816,\n",
       " 0.0004287140258602551,\n",
       " 0.003298035873077698,\n",
       " -0.0056881640674654455,\n",
       " 0.0031324361947727697,\n",
       " -0.0017453627082077428,\n",
       " -0.00045382116632558533,\n",
       " 0.0007131797208752566,\n",
       " 0.0013013175778848751,\n",
       " -0.0006679546006489734,\n",
       " -0.0007924141773739957,\n",
       " -0.0034480931528521053,\n",
       " -0.004509813904322091,\n",
       " -0.002297625616980936,\n",
       " 0.00037764228411907297,\n",
       " -0.0017152164499134315,\n",
       " 0.0003330911755900501,\n",
       " -0.003971492309185004,\n",
       " -0.0010952133181422463,\n",
       " 0.006682409123006966,\n",
       " -0.002807083459677756,\n",
       " -0.0014159364200359847,\n",
       " 0.0029974192853753356,\n",
       " 0.00026273188891298704,\n",
       " -0.0005739696888897583,\n",
       " -0.0030304106428631905,\n",
       " -0.0015889567787648884,\n",
       " -0.00048748653551075605,\n",
       " 0.00013295310687364004,\n",
       " 0.002769781048029024,\n",
       " -0.004232359405103303,\n",
       " -0.0005294185803607354,\n",
       " 0.0026775962306933576,\n",
       " 0.005449850565873937,\n",
       " 0.00041741880188864156,\n",
       " 0.0018889378463249895,\n",
       " 0.0009036875301164926,\n",
       " -0.0036756773382275176,\n",
       " -0.000813420738777132,\n",
       " 0.0009980549005180195,\n",
       " 0.001815577037326599,\n",
       " 0.005308340049249766,\n",
       " 0.0010867746589337257,\n",
       " -6.148329788613349e-05,\n",
       " 0.00033742925573634897,\n",
       " -0.0013526153551405573,\n",
       " 0.002026600845386889,\n",
       " -0.00040927005779656245,\n",
       " -0.0011590519716071224,\n",
       " 0.0009023779982769431,\n",
       " -0.0003188312829135731,\n",
       " 0.0010378314182875603,\n",
       " -0.0019948535021981073,\n",
       " -0.000868475128007723,\n",
       " -0.004620768678024217,\n",
       " -0.004290496394611515,\n",
       " -0.003797162418616634,\n",
       " -0.0014338603811614725,\n",
       " 0.0006804414248873236,\n",
       " 0.0031302536417068816,\n",
       " -0.00020479390893385352,\n",
       " 0.00012163085691654918,\n",
       " -0.0043935399253056395,\n",
       " -0.004961571268123882,\n",
       " -0.0004962167477741697,\n",
       " 0.0024303150157542752,\n",
       " -0.0029635164151060878,\n",
       " -0.0008706306550881338,\n",
       " -0.0026314440372698644,\n",
       " -0.0015120498328902165,\n",
       " 0.004267135296598862,\n",
       " -0.0008535526892035628,\n",
       " 0.003016652778340345,\n",
       " -0.0023910929401707026,\n",
       " -0.0011708377581627905,\n",
       " -0.005296235683653727,\n",
       " -0.0018026266764896437,\n",
       " 0.0044515319572556444,\n",
       " -0.007066188762726633,\n",
       " -0.005836739831856674,\n",
       " -0.0009322597295017554,\n",
       " 0.0023940305828901165,\n",
       " 0.0003667024928043494,\n",
       " -0.002503874834281772,\n",
       " -0.0017103878071831058,\n",
       " -0.001964243707305191,\n",
       " 0.004367613815584814,\n",
       " -0.002730176513803112,\n",
       " -0.0012603764858340194,\n",
       " -0.0012909592547415139,\n",
       " 0.002747955517370393,\n",
       " 0.0043413961528090406,\n",
       " 0.002879889826490206,\n",
       " 0.0033124677492978316,\n",
       " 0.0036886276990645006,\n",
       " -0.0013504057760892751,\n",
       " -0.006891449387530502,\n",
       " -0.0024527490405697183,\n",
       " 0.004940010264534778,\n",
       " -8.199929670524297e-05,\n",
       " -0.0005010183645191013,\n",
       " -0.0007562108224661024,\n",
       " 0.0006791318930478019,\n",
       " -0.00452814735007534,\n",
       " 0.0004632794422571862,\n",
       " 0.002200030688743526,\n",
       " -0.0015417595805713724,\n",
       " 0.0008796794463919733,\n",
       " 0.0032189463741371938,\n",
       " 0.0010360853758348831,\n",
       " -0.0008671655961682012,\n",
       " -0.006489508285601242,\n",
       " 0.0028790168052638676,\n",
       " -0.0005110310826366427,\n",
       " 0.003379280899098641,\n",
       " 0.0046974766143697555,\n",
       " 0.0027584047461011174,\n",
       " -0.004891239007432269,\n",
       " 0.0012668062134588154,\n",
       " -0.002596523188216071,\n",
       " -9.465810448724965e-05,\n",
       " -0.002129406874996964,\n",
       " 0.00045888731014001594,\n",
       " -0.0035122602129884495,\n",
       " 0.0018439232011973894,\n",
       " 0.0033832094946172064,\n",
       " 0.005015144141971323,\n",
       " 0.0005270640437512186]"
      ]
     },
     "execution_count": 45,
     "metadata": {},
     "output_type": "execute_result"
    }
   ],
   "source": [
    "p_diffs = []\n",
    "for _ in range(500):\n",
    "    # simulate the treatment and control converted arrays\n",
    "    treatment_converted = np.random.choice([0,1], n_treatment, replace = True, p = [(1-p_control_treatment_null),p_control_treatment_null] )\n",
    "    control_converted = np.random.choice([0,1], n_control, replace = True, p = [(1-p_control_treatment_null),p_control_treatment_null] )\n",
    "    # calculate p_treatment and p_control under the null\n",
    "    p_treatment = treatment_converted.mean()\n",
    "    p_control = control_converted.mean()\n",
    "    # calculate the difference between p_treatment_null and p_control_null\n",
    "    # add p_diff to the p_diffs array\n",
    "    p_diffs.append(p_treatment - p_control)\n",
    "\n",
    "    \n",
    "p_diffs    "
   ]
  },
  {
   "cell_type": "markdown",
   "metadata": {},
   "source": [
    "`f)` Plot a histogram of the **p_diffs**.  Does this plot look like what you expected?  Use the matching problem in the classroom to assure you fully understand what was computed here."
   ]
  },
  {
   "cell_type": "code",
   "execution_count": 65,
   "metadata": {},
   "outputs": [
    {
     "name": "stdout",
     "output_type": "stream",
     "text": [
      "0.050066728877864425\n"
     ]
    },
    {
     "data": {
      "image/png": "[encoded data removed]",
      "text/plain": [
       "<Figure size 640x480 with 1 Axes>"
      ]
     },
     "metadata": {},
     "output_type": "display_data"
    }
   ],
   "source": [
    "# p_diffs = pd.Series(p_diffs)\n",
    "plt.hist(p_diffs,bins=20)\n",
    "actual_diffs = (df[df['group'] == \"treatment\"]['converted'].mean()) - (df[df['group'] == \"control\"]['converted'].mean())\n",
    "print(actual_diffs)\n",
    "#plt.axvline(x=actual_diffs, color='red')"
   ]
  },
  {
   "cell_type": "markdown",
   "metadata": {},
   "source": [
    "`g)` What proportion of the **p_diffs** are greater than the difference observed between `treatment` and `control` in `df`?"
   ]
  },
  {
   "cell_type": "code",
   "execution_count": 64,
   "metadata": {},
   "outputs": [
    {
     "data": {
      "text/plain": [
       "0.0"
      ]
     },
     "execution_count": 64,
     "metadata": {},
     "output_type": "execute_result"
    }
   ],
   "source": [
    "\n",
    "(np.array(p_diffs) > actual_diffs).mean()\n"
   ]
  },
  {
   "cell_type": "markdown",
   "metadata": {},
   "source": [
    "`h)` In words, explain what you just computed in part `g)`  What is this value called in scientific studies?  What does this value mean in terms of whether or not there is a difference between the new and old pages using our Type I error rate of 0.05?"
   ]
  },
  {
   "cell_type": "markdown",
   "metadata": {},
   "source": [
    "We computed P-value as it is the probability of obtaining the observed statistics given that the null hypothesis i.e p_treatment - p_control = 0 is true.As the p-value came to be zero, we reject the null hypothesis as the p is less than alpha value and we can conclude from the data that thetreatment page has higher conversion rates when compared to the control page "
   ]
  },
  {
   "cell_type": "markdown",
   "metadata": {},
   "source": [
    "<a id='algorithms'></a>\n",
    "### Part IV - Algorithms\n",
    "\n",
    "`1.` In this final part, you will see that the result you acheived in the previous A/B test can also be acheived by performing regression.  All the code needed for the modeling and results of the modeling for sections `b) - f)` have been completed for you. \n",
    "\n",
    "**You will need to complete sections `a)` and `g)`.**  \n",
    "\n",
    "**Then use the code from `1.` to assist with the question `2.`   You should be able to modify the code to assist in answering each of question 2's parts.**<br><br>\n",
    "\n",
    "`a)` Since each row is either a conversion or no conversion, what type of regression should you be performing in this case?"
   ]
  },
  {
   "cell_type": "markdown",
   "metadata": {},
   "source": [
    "Logistic Regression"
   ]
  },
  {
   "cell_type": "markdown",
   "metadata": {},
   "source": [
    "The goal is to use **statsmodels** to fit the regression model you specified in part `a)` to see if there is a significant difference in conversion based on which page a customer receives.  \n",
    "\n",
    "`b)` However, you first need to create a column for the intercept, and create a dummy variable column for which page each user received.  Add an **intercept** column, as well as an **ab_page** column, which is 1 when an individual receives the **treatment** and 0 if **control**.\n",
    "\n",
    "It may be helpful to look at the [get_dummies documentation](https://pandas.pydata.org/docs/reference/api/pandas.get_dummies.html) to encode the `ab_page` column.\n",
    "\n",
    "Below you can see an example of the new columns that will need to be added (The order of columns is not important.): **This question is completed for you**\n",
    "\n",
    "##### Example DataFrame\n",
    "| intercept   | group       | ab_page     | converted   |\n",
    "| ----------- | ----------- | ----------- | ----------- |\n",
    "| 1           |  control    |  0          |  0          |\n",
    "| 1           |  treatment  |  1          |  0          |\n",
    "| 1           |  treatment  |  1          |  0          |\n",
    "| 1           |  control    |  0          |  0          |\n",
    "| 1           |  treatment  |  1          |  1          |\n",
    "| 1           |  treatment  |  1          |  1          |\n",
    "| 1           |  treatment  |  1          |  0          |\n",
    "| 1           |  control    |  0          |  1          |"
   ]
  },
  {
   "cell_type": "code",
   "execution_count": 66,
   "metadata": {},
   "outputs": [
    {
     "data": {
      "text/html": [
       "<div>\n",
       "<style scoped>\n",
       "    .dataframe tbody tr th:only-of-type {\n",
       "        vertical-align: middle;\n",
       "    }\n",
       "\n",
       "    .dataframe tbody tr th {\n",
       "        vertical-align: top;\n",
       "    }\n",
       "\n",
       "    .dataframe thead th {\n",
       "        text-align: right;\n",
       "    }\n",
       "</style>\n",
       "<table border=\"1\" class=\"dataframe\">\n",
       "  <thead>\n",
       "    <tr style=\"text-align: right;\">\n",
       "      <th></th>\n",
       "      <th>country</th>\n",
       "      <th>group</th>\n",
       "      <th>converted</th>\n",
       "      <th>intercept</th>\n",
       "      <th>ab_page</th>\n",
       "    </tr>\n",
       "  </thead>\n",
       "  <tbody>\n",
       "    <tr>\n",
       "      <th>0</th>\n",
       "      <td>UK</td>\n",
       "      <td>control</td>\n",
       "      <td>0</td>\n",
       "      <td>1</td>\n",
       "      <td>0</td>\n",
       "    </tr>\n",
       "    <tr>\n",
       "      <th>1</th>\n",
       "      <td>US</td>\n",
       "      <td>treatment</td>\n",
       "      <td>1</td>\n",
       "      <td>1</td>\n",
       "      <td>1</td>\n",
       "    </tr>\n",
       "    <tr>\n",
       "      <th>2</th>\n",
       "      <td>UK</td>\n",
       "      <td>treatment</td>\n",
       "      <td>0</td>\n",
       "      <td>1</td>\n",
       "      <td>1</td>\n",
       "    </tr>\n",
       "    <tr>\n",
       "      <th>3</th>\n",
       "      <td>UK</td>\n",
       "      <td>control</td>\n",
       "      <td>0</td>\n",
       "      <td>1</td>\n",
       "      <td>0</td>\n",
       "    </tr>\n",
       "    <tr>\n",
       "      <th>4</th>\n",
       "      <td>UK</td>\n",
       "      <td>treatment</td>\n",
       "      <td>0</td>\n",
       "      <td>1</td>\n",
       "      <td>1</td>\n",
       "    </tr>\n",
       "  </tbody>\n",
       "</table>\n",
       "</div>"
      ],
      "text/plain": [
       "  country      group  converted  intercept  ab_page\n",
       "0      UK    control          0          1        0\n",
       "1      US  treatment          1          1        1\n",
       "2      UK  treatment          0          1        1\n",
       "3      UK    control          0          1        0\n",
       "4      UK  treatment          0          1        1"
      ]
     },
     "execution_count": 66,
     "metadata": {},
     "output_type": "execute_result"
    }
   ],
   "source": [
    "df['intercept'] = 1\n",
    "df['ab_page'] = pd.get_dummies(df['group'])['treatment']\n",
    "df.head()"
   ]
  },
  {
   "cell_type": "markdown",
   "metadata": {},
   "source": [
    "`c)`  Create your `X` matrix and `y` response column that will be passed to your model, where you are testing if there is a difference in `treatment` vs. `control`. **This question is completed for you**"
   ]
  },
  {
   "cell_type": "code",
   "execution_count": 67,
   "metadata": {},
   "outputs": [],
   "source": [
    "X = df[['intercept', 'ab_page']]\n",
    "y = df['converted']"
   ]
  },
  {
   "cell_type": "markdown",
   "metadata": {},
   "source": [
    "`d)` Use **statsmodels** to import and fit your regression model on the `X` and `y` from part `c)`. \n",
    "\n",
    "You can find the [statsmodels documentation to assist with this exercise here](https://www.statsmodels.org/stable/discretemod.html).  **This question is completed for you**"
   ]
  },
  {
   "cell_type": "code",
   "execution_count": 68,
   "metadata": {},
   "outputs": [
    {
     "name": "stdout",
     "output_type": "stream",
     "text": [
      "Optimization terminated successfully.\n",
      "         Current function value: 0.384516\n",
      "         Iterations 6\n"
     ]
    }
   ],
   "source": [
    "import statsmodels.api as sm\n",
    "\n",
    "# Logit Model\n",
    "logit_mod = sm.Logit(y, X)\n",
    "logit_res = logit_mod.fit()"
   ]
  },
  {
   "cell_type": "markdown",
   "metadata": {},
   "source": [
    "`e)` Provide the summary of your model below. **This question is completed for you**"
   ]
  },
  {
   "cell_type": "code",
   "execution_count": 12,
   "metadata": {},
   "outputs": [
    {
     "name": "stdout",
     "output_type": "stream",
     "text": [
      "                           Logit Regression Results                           \n",
      "==============================================================================\n",
      "Dep. Variable:              converted   No. Observations:                69889\n",
      "Model:                          Logit   Df Residuals:                    69887\n",
      "Method:                           MLE   Df Model:                            1\n",
      "Date:                Tue, 07 Jan 2025   Pseudo R-squ.:                0.007175\n",
      "Time:                        06:14:07   Log-Likelihood:                -26873.\n",
      "converged:                       True   LL-Null:                       -27068.\n",
      "Covariance Type:            nonrobust   LLR p-value:                 1.810e-86\n",
      "==============================================================================\n",
      "                 coef    std err          z      P>|z|      [0.025      0.975]\n",
      "------------------------------------------------------------------------------\n",
      "intercept     -2.1402      0.017   -122.305      0.000      -2.174      -2.106\n",
      "ab_page        0.4467      0.023     19.539      0.000       0.402       0.492\n",
      "==============================================================================\n"
     ]
    }
   ],
   "source": [
    "print(logit_res.summary())"
   ]
  },
  {
   "cell_type": "markdown",
   "metadata": {},
   "source": [
    "`f)` What is the p-value associated with **ab_page**? Does it lead you to the same conclusion you drew in the **Experiment** section."
   ]
  },
  {
   "cell_type": "markdown",
   "metadata": {},
   "source": [
    " P is zero which means we can reject the null hypothesis and ab_page is statistically significant and this columns is useful in determining the conversion columns. This leads us to the same conclusion as that of experiment section."
   ]
  },
  {
   "cell_type": "markdown",
   "metadata": {},
   "source": [
    "`2. a)` Now you will want to create two new columns as dummy variables for `US` and `UK`.  Again, use `get_dummies` to add these columns.  The dataframe you create should include at least the following columns (If both columns for `US` and `UK` are `0` this represents `CA`.  The order of rows and columns is not important for you to match - it is just to illustrate how columns should connect to one another.):\n",
    "\n",
    "##### Example DataFrame\n",
    "| intercept   | group       | ab_page     | converted   | country     |  US         | UK          |\n",
    "| ----------- | ----------- | ----------- | ----------- | ----------- | ----------- | ----------- |\n",
    "| 1           |  control    |  0          |  0          |  US         |  1          |  0          |\n",
    "| 1           |  treatment  |  1          |  0          |  UK         |  0          |  1          |\n",
    "| 1           |  treatment  |  1          |  0          |  US         |  1          |  0          |\n",
    "| 1           |  control    |  0          |  0          |  US         |  1          |  0          |\n",
    "| 1           |  treatment  |  1          |  1          |  CA         |  0          |  0          |\n",
    "| 1           |  treatment  |  1          |  1          |  UK         |  0          |  1          |\n",
    "| 1           |  treatment  |  1          |  0          |  US         |  1          |  0          |\n",
    "| 1           |  control    |  0          |  1          |  US         |  1          |  0          |"
   ]
  },
  {
   "cell_type": "code",
   "execution_count": 85,
   "metadata": {},
   "outputs": [
    {
     "data": {
      "text/html": [
       "<div>\n",
       "<style scoped>\n",
       "    .dataframe tbody tr th:only-of-type {\n",
       "        vertical-align: middle;\n",
       "    }\n",
       "\n",
       "    .dataframe tbody tr th {\n",
       "        vertical-align: top;\n",
       "    }\n",
       "\n",
       "    .dataframe thead th {\n",
       "        text-align: right;\n",
       "    }\n",
       "</style>\n",
       "<table border=\"1\" class=\"dataframe\">\n",
       "  <thead>\n",
       "    <tr style=\"text-align: right;\">\n",
       "      <th></th>\n",
       "      <th>country</th>\n",
       "      <th>group</th>\n",
       "      <th>converted</th>\n",
       "      <th>intercept</th>\n",
       "      <th>ab_page</th>\n",
       "      <th>CA</th>\n",
       "      <th>UK</th>\n",
       "      <th>US</th>\n",
       "    </tr>\n",
       "  </thead>\n",
       "  <tbody>\n",
       "    <tr>\n",
       "      <th>0</th>\n",
       "      <td>UK</td>\n",
       "      <td>control</td>\n",
       "      <td>0</td>\n",
       "      <td>1</td>\n",
       "      <td>0</td>\n",
       "      <td>0</td>\n",
       "      <td>1</td>\n",
       "      <td>0</td>\n",
       "    </tr>\n",
       "    <tr>\n",
       "      <th>1</th>\n",
       "      <td>US</td>\n",
       "      <td>treatment</td>\n",
       "      <td>1</td>\n",
       "      <td>1</td>\n",
       "      <td>1</td>\n",
       "      <td>0</td>\n",
       "      <td>0</td>\n",
       "      <td>1</td>\n",
       "    </tr>\n",
       "    <tr>\n",
       "      <th>2</th>\n",
       "      <td>UK</td>\n",
       "      <td>treatment</td>\n",
       "      <td>0</td>\n",
       "      <td>1</td>\n",
       "      <td>1</td>\n",
       "      <td>0</td>\n",
       "      <td>1</td>\n",
       "      <td>0</td>\n",
       "    </tr>\n",
       "    <tr>\n",
       "      <th>3</th>\n",
       "      <td>UK</td>\n",
       "      <td>control</td>\n",
       "      <td>0</td>\n",
       "      <td>1</td>\n",
       "      <td>0</td>\n",
       "      <td>0</td>\n",
       "      <td>1</td>\n",
       "      <td>0</td>\n",
       "    </tr>\n",
       "    <tr>\n",
       "      <th>4</th>\n",
       "      <td>UK</td>\n",
       "      <td>treatment</td>\n",
       "      <td>0</td>\n",
       "      <td>1</td>\n",
       "      <td>1</td>\n",
       "      <td>0</td>\n",
       "      <td>1</td>\n",
       "      <td>0</td>\n",
       "    </tr>\n",
       "  </tbody>\n",
       "</table>\n",
       "</div>"
      ],
      "text/plain": [
       "  country      group  converted  intercept  ab_page  CA  UK  US\n",
       "0      UK    control          0          1        0   0   1   0\n",
       "1      US  treatment          1          1        1   0   0   1\n",
       "2      UK  treatment          0          1        1   0   1   0\n",
       "3      UK    control          0          1        0   0   1   0\n",
       "4      UK  treatment          0          1        1   0   1   0"
      ]
     },
     "execution_count": 85,
     "metadata": {},
     "output_type": "execute_result"
    }
   ],
   "source": [
    "### Create the necessary dummy variables\n",
    "df['intercept'] = 1\n",
    "df[['CA','UK','US']] = pd.get_dummies(df['country'])\n",
    "df.head()"
   ]
  },
  {
   "cell_type": "markdown",
   "metadata": {},
   "source": [
    "`b)`  Create your `X` matrix and `y` response column that will be passed to your model, where you are testing if there is \n",
    "* a difference in `converted` between `treatment` vs. `control`\n",
    "* a difference in `converted` between `US`, `UK`, and `CA`"
   ]
  },
  {
   "cell_type": "code",
   "execution_count": 86,
   "metadata": {},
   "outputs": [],
   "source": [
    "X = df[['intercept','ab_page','UK','US']]\n",
    "y = df['converted']"
   ]
  },
  {
   "cell_type": "markdown",
   "metadata": {},
   "source": [
    "`c)` Use **statsmodels** to import and fit your regression model on the `X` and `y` from part `b)`. \n",
    "You can find the [statsmodels documentation to assist with this exercise here](https://www.statsmodels.org/stable/discretemod.html)."
   ]
  },
  {
   "cell_type": "code",
   "execution_count": 87,
   "metadata": {},
   "outputs": [
    {
     "name": "stdout",
     "output_type": "stream",
     "text": [
      "Optimization terminated successfully.\n",
      "         Current function value: 0.384463\n",
      "         Iterations 6\n"
     ]
    }
   ],
   "source": [
    "import statsmodels.api as sm\n",
    "\n",
    "logit_model = sm.Logit(y, X)\n",
    "logit_result = logit_model.fit()"
   ]
  },
  {
   "cell_type": "markdown",
   "metadata": {},
   "source": [
    "`d)` Provide the summary of your model below."
   ]
  },
  {
   "cell_type": "code",
   "execution_count": 88,
   "metadata": {},
   "outputs": [
    {
     "data": {
      "text/html": [
       "<table class=\"simpletable\">\n",
       "<caption>Logit Regression Results</caption>\n",
       "<tr>\n",
       "  <th>Dep. Variable:</th>       <td>converted</td>    <th>  No. Observations:  </th>  <td> 69889</td>  \n",
       "</tr>\n",
       "<tr>\n",
       "  <th>Model:</th>                 <td>Logit</td>      <th>  Df Residuals:      </th>  <td> 69885</td>  \n",
       "</tr>\n",
       "<tr>\n",
       "  <th>Method:</th>                 <td>MLE</td>       <th>  Df Model:          </th>  <td>     3</td>  \n",
       "</tr>\n",
       "<tr>\n",
       "  <th>Date:</th>            <td>Wed, 08 Jan 2025</td> <th>  Pseudo R-squ.:     </th> <td>0.007312</td> \n",
       "</tr>\n",
       "<tr>\n",
       "  <th>Time:</th>                <td>00:15:08</td>     <th>  Log-Likelihood:    </th> <td> -26870.</td> \n",
       "</tr>\n",
       "<tr>\n",
       "  <th>converged:</th>             <td>True</td>       <th>  LL-Null:           </th> <td> -27068.</td> \n",
       "</tr>\n",
       "<tr>\n",
       "  <th>Covariance Type:</th>     <td>nonrobust</td>    <th>  LLR p-value:       </th> <td>1.778e-85</td>\n",
       "</tr>\n",
       "</table>\n",
       "<table class=\"simpletable\">\n",
       "<tr>\n",
       "      <td></td>         <th>coef</th>     <th>std err</th>      <th>z</th>      <th>P>|z|</th>  <th>[0.025</th>    <th>0.975]</th>  \n",
       "</tr>\n",
       "<tr>\n",
       "  <th>intercept</th> <td>   -2.1930</td> <td>    0.053</td> <td>  -41.308</td> <td> 0.000</td> <td>   -2.297</td> <td>   -2.089</td>\n",
       "</tr>\n",
       "<tr>\n",
       "  <th>ab_page</th>   <td>    0.4466</td> <td>    0.023</td> <td>   19.534</td> <td> 0.000</td> <td>    0.402</td> <td>    0.491</td>\n",
       "</tr>\n",
       "<tr>\n",
       "  <th>UK</th>        <td>    0.0067</td> <td>    0.056</td> <td>    0.120</td> <td> 0.905</td> <td>   -0.103</td> <td>    0.117</td>\n",
       "</tr>\n",
       "<tr>\n",
       "  <th>US</th>        <td>    0.0727</td> <td>    0.053</td> <td>    1.372</td> <td> 0.170</td> <td>   -0.031</td> <td>    0.177</td>\n",
       "</tr>\n",
       "</table>"
      ],
      "text/plain": [
       "<class 'statsmodels.iolib.summary.Summary'>\n",
       "\"\"\"\n",
       "                           Logit Regression Results                           \n",
       "==============================================================================\n",
       "Dep. Variable:              converted   No. Observations:                69889\n",
       "Model:                          Logit   Df Residuals:                    69885\n",
       "Method:                           MLE   Df Model:                            3\n",
       "Date:                Wed, 08 Jan 2025   Pseudo R-squ.:                0.007312\n",
       "Time:                        00:15:08   Log-Likelihood:                -26870.\n",
       "converged:                       True   LL-Null:                       -27068.\n",
       "Covariance Type:            nonrobust   LLR p-value:                 1.778e-85\n",
       "==============================================================================\n",
       "                 coef    std err          z      P>|z|      [0.025      0.975]\n",
       "------------------------------------------------------------------------------\n",
       "intercept     -2.1930      0.053    -41.308      0.000      -2.297      -2.089\n",
       "ab_page        0.4466      0.023     19.534      0.000       0.402       0.491\n",
       "UK             0.0067      0.056      0.120      0.905      -0.103       0.117\n",
       "US             0.0727      0.053      1.372      0.170      -0.031       0.177\n",
       "==============================================================================\n",
       "\"\"\""
      ]
     },
     "execution_count": 88,
     "metadata": {},
     "output_type": "execute_result"
    }
   ],
   "source": [
    "logit_result.summary()"
   ]
  },
  {
   "cell_type": "markdown",
   "metadata": {},
   "source": [
    "`e)` What do the `p-values` associated with `US` and `UK` suggest in relation to how they impact `converted`? "
   ]
  },
  {
   "cell_type": "markdown",
   "metadata": {},
   "source": [
    "As the p values for US and UK are greater than 0.05, we can conclude that countries does not significantly influence in determining the conversion rates"
   ]
  },
  {
   "cell_type": "markdown",
   "metadata": {},
   "source": [
    "<a id='finalcheck'></a>\n",
    "## Final Check!\n",
    "\n",
    "Congratulations!  You have reached the end of the A/B Test Results project!  You should be very proud of all you have accomplished!\n",
    "\n",
    "> **Tip**: Once you are satisfied with your work here, check over your notebook to make sure that it satisfies all the specifications mentioned in the rubric. You should also probably remove all of the \"Hints\" and \"Tips\" like this one so that the presentation is as polished as possible.\n",
    "\n",
    "\n",
    "<a id='submission'></a>\n",
    "## Submission\n",
    "\n",
    "Please follow the directions in the classroom to submit this notebook, as well as your completed slides."
   ]
  }
 ],
 "metadata": {
  "kernelspec": {
   "display_name": "Python 3 (ipykernel)",
   "language": "python",
   "name": "python3"
  },
  "language_info": {
   "codemirror_mode": {
    "name": "ipython",
    "version": 3
   },
   "file_extension": ".py",
   "mimetype": "text/x-python",
   "name": "python",
   "nbconvert_exporter": "python",
   "pygments_lexer": "ipython3",
   "version": "3.10.13"
  },
  "vscode": {
   "interpreter": {
    "hash": "b34053042c33de92a8f6946323cebca57e40086129f2774c267076f4fb825384"
   }
  }
 },
 "nbformat": 4,
 "nbformat_minor": 2
}
