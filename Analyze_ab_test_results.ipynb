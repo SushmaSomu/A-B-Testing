{
 "cells": [
  {
   "cell_type": "markdown",
   "metadata": {},
   "source": [
    "## Analyze A/B Test Results\n",
    "\n",
    "This project will assure you have mastered the subjects covered in the inferential statistics. I hope this project will shower you some knowledge.  Good luck!\n",
    "\n",
    "In this analysis I provided the question and answer scenarios so that you can dive on your thoughts on how to solve before checking the solutions.  Completing the notebook will provide all the results needed for the slides.  **Correctly completing the slides is a required part of the project.**\n",
    "\n",
    "## Table of Contents\n",
    "- [Introduction](#intro)\n",
    "- [Part I - Descriptive Statistics](#descriptive)\n",
    "- [Part II - Probability](#probability)\n",
    "- [Part III - Experimentation](#experimentation)\n",
    "- [Part IV - Algorithms](#algorithms)\n",
    "\n",
    "\n",
    "<a id='intro'></a>\n",
    "### Introduction\n",
    "\n",
    "A/B tests are very commonly performed by data analysts and data scientists.  For this project, you will be working to understand the results of an A/B test run by an e-commerce website.  Your goal is to work through this notebook to help the company understand if they should implement the new page, keep the old page, or perhaps run the experiment longer to make their decision.\n",
    "\n",
    "\n",
    "<a id='descriptive'></a>\n",
    "#### Part I - Descriptive Statistics\n",
    "\n",
    "To get started, let's import our libraries."
   ]
  },
  {
   "cell_type": "code",
   "execution_count": 2,
   "metadata": {},
   "outputs": [],
   "source": [
    "import pandas as pd\n",
    "import numpy as np\n",
    "import random\n",
    "import matplotlib.pyplot as plt\n",
    "%matplotlib inline\n",
    "#We are setting the seed to assure you get the same answers\n",
    "random.seed(0)"
   ]
  },
  {
   "cell_type": "markdown",
   "metadata": {},
   "source": [
    "For each of the parts of question `1` notice links to [pandas documentation](https://pandas.pydata.org/) is provided to assist with answering the questions.  Though there are other ways you could solve the questions, the documentation is provided to assist you with one fast way to find the answer to each question.\n",
    "\n",
    "\n",
    "`1.a)` Now, read in the `ab_data.csv` data. Store it in `df`. Read in the dataset and take a look at the top few rows here."
   ]
  },
  {
   "cell_type": "code",
   "execution_count": 3,
   "metadata": {},
   "outputs": [
    {
     "data": {
      "text/html": [
       "<div>\n",
       "<style scoped>\n",
       "    .dataframe tbody tr th:only-of-type {\n",
       "        vertical-align: middle;\n",
       "    }\n",
       "\n",
       "    .dataframe tbody tr th {\n",
       "        vertical-align: top;\n",
       "    }\n",
       "\n",
       "    .dataframe thead th {\n",
       "        text-align: right;\n",
       "    }\n",
       "</style>\n",
       "<table border=\"1\" class=\"dataframe\">\n",
       "  <thead>\n",
       "    <tr style=\"text-align: right;\">\n",
       "      <th></th>\n",
       "      <th>country</th>\n",
       "      <th>group</th>\n",
       "      <th>converted</th>\n",
       "    </tr>\n",
       "  </thead>\n",
       "  <tbody>\n",
       "    <tr>\n",
       "      <th>0</th>\n",
       "      <td>UK</td>\n",
       "      <td>control</td>\n",
       "      <td>0</td>\n",
       "    </tr>\n",
       "    <tr>\n",
       "      <th>1</th>\n",
       "      <td>US</td>\n",
       "      <td>treatment</td>\n",
       "      <td>1</td>\n",
       "    </tr>\n",
       "    <tr>\n",
       "      <th>2</th>\n",
       "      <td>UK</td>\n",
       "      <td>treatment</td>\n",
       "      <td>0</td>\n",
       "    </tr>\n",
       "    <tr>\n",
       "      <th>3</th>\n",
       "      <td>UK</td>\n",
       "      <td>control</td>\n",
       "      <td>0</td>\n",
       "    </tr>\n",
       "    <tr>\n",
       "      <th>4</th>\n",
       "      <td>UK</td>\n",
       "      <td>treatment</td>\n",
       "      <td>0</td>\n",
       "    </tr>\n",
       "  </tbody>\n",
       "</table>\n",
       "</div>"
      ],
      "text/plain": [
       "  country      group  converted\n",
       "0      UK    control          0\n",
       "1      US  treatment          1\n",
       "2      UK  treatment          0\n",
       "3      UK    control          0\n",
       "4      UK  treatment          0"
      ]
     },
     "execution_count": 3,
     "metadata": {},
     "output_type": "execute_result"
    }
   ],
   "source": [
    "#This is the data for unique users\n",
    "#Control group - users with old page, treatment group - new page, \n",
    "#Converted - user pays for the product\n",
    "df = pd.read_csv('ab_data.csv')\n",
    "df.head()"
   ]
  },
  {
   "cell_type": "markdown",
   "metadata": {},
   "source": [
    "`b)` Use the below cell to find the number of rows in the dataset. [Helpful  Pandas Link](https://pandas.pydata.org/docs/reference/api/pandas.DataFrame.shape.html#pandas.DataFrame.shape)"
   ]
  },
  {
   "cell_type": "code",
   "execution_count": 4,
   "metadata": {},
   "outputs": [
    {
     "data": {
      "text/plain": [
       "(69889, 3)"
      ]
     },
     "execution_count": 4,
     "metadata": {},
     "output_type": "execute_result"
    }
   ],
   "source": [
    "df.shape"
   ]
  },
  {
   "cell_type": "markdown",
   "metadata": {
    "collapsed": true
   },
   "source": [
    "`c)` The proportion of users converted.  [Helpful  Pandas Link](https://pandas.pydata.org/docs/reference/api/pandas.DataFrame.mean.html)"
   ]
  },
  {
   "cell_type": "code",
   "execution_count": 5,
   "metadata": {},
   "outputs": [
    {
     "data": {
      "text/plain": [
       "0.13047832992316388"
      ]
     },
     "execution_count": 5,
     "metadata": {},
     "output_type": "execute_result"
    }
   ],
   "source": [
    "df['converted'].mean()"
   ]
  },
  {
   "cell_type": "markdown",
   "metadata": {},
   "source": [
    "`d)` Do any of the rows have missing values? [Helpful Pandas Link One](https://pandas.pydata.org/docs/reference/api/pandas.DataFrame.isnull.html) and [Helpful Pandas Link Two](https://pandas.pydata.org/docs/reference/api/pandas.DataFrame.sum.html)"
   ]
  },
  {
   "cell_type": "code",
   "execution_count": 6,
   "metadata": {},
   "outputs": [
    {
     "data": {
      "text/html": [
       "<div>\n",
       "<style scoped>\n",
       "    .dataframe tbody tr th:only-of-type {\n",
       "        vertical-align: middle;\n",
       "    }\n",
       "\n",
       "    .dataframe tbody tr th {\n",
       "        vertical-align: top;\n",
       "    }\n",
       "\n",
       "    .dataframe thead th {\n",
       "        text-align: right;\n",
       "    }\n",
       "</style>\n",
       "<table border=\"1\" class=\"dataframe\">\n",
       "  <thead>\n",
       "    <tr style=\"text-align: right;\">\n",
       "      <th></th>\n",
       "      <th>country</th>\n",
       "      <th>group</th>\n",
       "      <th>converted</th>\n",
       "    </tr>\n",
       "  </thead>\n",
       "  <tbody>\n",
       "  </tbody>\n",
       "</table>\n",
       "</div>"
      ],
      "text/plain": [
       "Empty DataFrame\n",
       "Columns: [country, group, converted]\n",
       "Index: []"
      ]
     },
     "execution_count": 6,
     "metadata": {},
     "output_type": "execute_result"
    }
   ],
   "source": [
    "df[pd.isnull(df).any(axis = 1)]\n",
    "# 'isnull' gives the boolean value of every value whether it has null or not\n",
    "# 'any' checks the null in any column in a row, and gives the overall result\n",
    "#pd.isnull(df).any(axis = 1) gives the overall Boolean results \n",
    "#df[] gives the value which is True\n",
    "#result shows that there are no null values"
   ]
  },
  {
   "cell_type": "markdown",
   "metadata": {},
   "source": [
    "`e)` How many customers are from each country? Build a bar chart to show the count of visits from each country."
   ]
  },
  {
   "cell_type": "code",
   "execution_count": 7,
   "metadata": {},
   "outputs": [
    {
     "data": {
      "text/plain": [
       "country\n",
       "CA     3488\n",
       "UK    17551\n",
       "US    48850\n",
       "Name: group, dtype: int64"
      ]
     },
     "execution_count": 7,
     "metadata": {},
     "output_type": "execute_result"
    }
   ],
   "source": [
    "# number of visitors from each country - pull the necessary code from the next cell to provide just the counts\n",
    "df.groupby('country').count()['group']\n"
   ]
  },
  {
   "cell_type": "code",
   "execution_count": 8,
   "metadata": {},
   "outputs": [
    {
     "data": {
      "image/png": "[encoded data removed]",
      "text/plain": [
       "<Figure size 640x480 with 1 Axes>"
      ]
     },
     "metadata": {},
     "output_type": "display_data"
    }
   ],
   "source": [
    "# bar chart of results - this part is done for you\n",
    "df['country'].value_counts().plot(kind='bar');\n",
    "plt.title('Number of Visits From Each Country');\n",
    "plt.ylabel('Count of Visits');\n",
    "plt.show();"
   ]
  },
  {
   "cell_type": "markdown",
   "metadata": {},
   "source": [
    "`f)` Recognize that all of your columns are of a **categorical data type** with the exception of one.  Which column is not **categorical**? [Helpful Pandas Link](https://pandas.pydata.org/docs/reference/api/pandas.DataFrame.info.html)"
   ]
  },
  {
   "cell_type": "code",
   "execution_count": 9,
   "metadata": {},
   "outputs": [
    {
     "data": {
      "text/html": [
       "<div>\n",
       "<style scoped>\n",
       "    .dataframe tbody tr th:only-of-type {\n",
       "        vertical-align: middle;\n",
       "    }\n",
       "\n",
       "    .dataframe tbody tr th {\n",
       "        vertical-align: top;\n",
       "    }\n",
       "\n",
       "    .dataframe thead th {\n",
       "        text-align: right;\n",
       "    }\n",
       "</style>\n",
       "<table border=\"1\" class=\"dataframe\">\n",
       "  <thead>\n",
       "    <tr style=\"text-align: right;\">\n",
       "      <th></th>\n",
       "      <th>converted</th>\n",
       "    </tr>\n",
       "  </thead>\n",
       "  <tbody>\n",
       "    <tr>\n",
       "      <th>0</th>\n",
       "      <td>0</td>\n",
       "    </tr>\n",
       "    <tr>\n",
       "      <th>1</th>\n",
       "      <td>1</td>\n",
       "    </tr>\n",
       "    <tr>\n",
       "      <th>2</th>\n",
       "      <td>0</td>\n",
       "    </tr>\n",
       "    <tr>\n",
       "      <th>3</th>\n",
       "      <td>0</td>\n",
       "    </tr>\n",
       "    <tr>\n",
       "      <th>4</th>\n",
       "      <td>0</td>\n",
       "    </tr>\n",
       "    <tr>\n",
       "      <th>...</th>\n",
       "      <td>...</td>\n",
       "    </tr>\n",
       "    <tr>\n",
       "      <th>69884</th>\n",
       "      <td>0</td>\n",
       "    </tr>\n",
       "    <tr>\n",
       "      <th>69885</th>\n",
       "      <td>0</td>\n",
       "    </tr>\n",
       "    <tr>\n",
       "      <th>69886</th>\n",
       "      <td>0</td>\n",
       "    </tr>\n",
       "    <tr>\n",
       "      <th>69887</th>\n",
       "      <td>0</td>\n",
       "    </tr>\n",
       "    <tr>\n",
       "      <th>69888</th>\n",
       "      <td>0</td>\n",
       "    </tr>\n",
       "  </tbody>\n",
       "</table>\n",
       "<p>69889 rows × 1 columns</p>\n",
       "</div>"
      ],
      "text/plain": [
       "       converted\n",
       "0              0\n",
       "1              1\n",
       "2              0\n",
       "3              0\n",
       "4              0\n",
       "...          ...\n",
       "69884          0\n",
       "69885          0\n",
       "69886          0\n",
       "69887          0\n",
       "69888          0\n",
       "\n",
       "[69889 rows x 1 columns]"
      ]
     },
     "execution_count": 9,
     "metadata": {},
     "output_type": "execute_result"
    }
   ],
   "source": [
    "df[['converted']]"
   ]
  },
  {
   "cell_type": "markdown",
   "metadata": {},
   "source": [
    "`g)` What are the possible values of the `converted` column?  Does it make sense that these values are the only possible values? Why or why not? \n"
   ]
  },
  {
   "cell_type": "code",
   "execution_count": 10,
   "metadata": {},
   "outputs": [
    {
     "data": {
      "text/plain": [
       "array([0, 1])"
      ]
     },
     "execution_count": 10,
     "metadata": {},
     "output_type": "execute_result"
    }
   ],
   "source": [
    "df['converted'].unique()\n",
    "#It has only 2 values - either 0 or 1. These are the only possible values as\n",
    "#there will be either the user pay for the product or the user will not."
   ]
  },
  {
   "cell_type": "markdown",
   "metadata": {},
   "source": [
    "<a id='probability'></a>\n",
    "#### Part II - Probability\n",
    "\n",
    "`1.` Now that you have had a chance to learn more about the dataset, let's look more at how different factors are related to `converting`.\n",
    "\n",
    "`a)` What is the probability of an individual converting regardless of the page they receive or the country they are from? Simply, what is the chance of conversion in the dataset?"
   ]
  },
  {
   "cell_type": "code",
   "execution_count": 11,
   "metadata": {},
   "outputs": [
    {
     "data": {
      "text/plain": [
       "0.13047832992316388"
      ]
     },
     "execution_count": 11,
     "metadata": {},
     "output_type": "execute_result"
    }
   ],
   "source": [
    "df['converted'].mean()\n",
    "#13% probability that the user converts"
   ]
  },
  {
   "cell_type": "markdown",
   "metadata": {},
   "source": [
    "`b)` Given that an individual was in the `control` group, what is the probability they converted? "
   ]
  },
  {
   "cell_type": "code",
   "execution_count": 12,
   "metadata": {},
   "outputs": [
    {
     "data": {
      "text/plain": [
       "0.1052540515600669"
      ]
     },
     "execution_count": 12,
     "metadata": {},
     "output_type": "execute_result"
    }
   ],
   "source": [
    "df.query('group == \"control\"')['converted'].mean()"
   ]
  },
  {
   "cell_type": "markdown",
   "metadata": {},
   "source": [
    "`c)` Given that an individual was in the `treatment` group, what is the probability they converted?"
   ]
  },
  {
   "cell_type": "code",
   "execution_count": 13,
   "metadata": {},
   "outputs": [
    {
     "data": {
      "text/plain": [
       "0.15532078043793132"
      ]
     },
     "execution_count": 13,
     "metadata": {},
     "output_type": "execute_result"
    }
   ],
   "source": [
    "df.loc[df['group'] == \"treatment\"]['converted'].mean()"
   ]
  },
  {
   "cell_type": "markdown",
   "metadata": {},
   "source": [
    "`d)` Do you see evidence that the treatment is related to higher `converted` rates?"
   ]
  },
  {
   "cell_type": "code",
   "execution_count": 17,
   "metadata": {},
   "outputs": [
    {
     "data": {
      "text/plain": [
       "True"
      ]
     },
     "execution_count": 17,
     "metadata": {},
     "output_type": "execute_result"
    }
   ],
   "source": [
    "df.loc[df['group'] == \"treatment\"]['converted'].mean() > df.query('group == \"control\"')['converted'].mean()"
   ]
  },
  {
   "cell_type": "markdown",
   "metadata": {},
   "source": [
    "`e)` What is the probability that an individual was in the `treatment`?"
   ]
  },
  {
   "cell_type": "code",
   "execution_count": 18,
   "metadata": {},
   "outputs": [
    {
     "data": {
      "text/plain": [
       "0.5038131894861853"
      ]
     },
     "execution_count": 18,
     "metadata": {},
     "output_type": "execute_result"
    }
   ],
   "source": [
    "df[df['group'] == \"treatment\"]['group'].count()/df['group'].count()"
   ]
  },
  {
   "cell_type": "markdown",
   "metadata": {},
   "source": [
    "`f)` What is the probability that an individual was from Canada `CA`?"
   ]
  },
  {
   "cell_type": "code",
   "execution_count": 19,
   "metadata": {},
   "outputs": [
    {
     "data": {
      "text/plain": [
       "0.04990771079855199"
      ]
     },
     "execution_count": 19,
     "metadata": {},
     "output_type": "execute_result"
    }
   ],
   "source": [
    "df[df['country'] == \"CA\"]['country'].count()/df['country'].count()"
   ]
  },
  {
   "cell_type": "markdown",
   "metadata": {},
   "source": [
    "`g)` Given that an individual was in the `US`, what was the probability that they `converted`? \n",
    "\n",
    "$P(\\text{converted} == 1|\\text{country} ==\\text{\"US\"})$\n",
    "\n"
   ]
  },
  {
   "cell_type": "code",
   "execution_count": 23,
   "metadata": {},
   "outputs": [
    {
     "data": {
      "text/plain": [
       "0.13277379733879222"
      ]
     },
     "execution_count": 23,
     "metadata": {},
     "output_type": "execute_result"
    }
   ],
   "source": [
    "df.query('country == \"US\"')['converted'].mean()"
   ]
  },
  {
   "cell_type": "markdown",
   "metadata": {},
   "source": [
    "`h)` Given that an individual was in the `UK`, what was the probability that they `converted`? \n",
    "\n",
    "$P(\\text{converted} == 1|\\text{country} ==\\text{\"UK\"})$"
   ]
  },
  {
   "cell_type": "code",
   "execution_count": 24,
   "metadata": {},
   "outputs": [
    {
     "data": {
      "text/plain": [
       "0.12512107572218106"
      ]
     },
     "execution_count": 24,
     "metadata": {},
     "output_type": "execute_result"
    }
   ],
   "source": [
    "df[df['country'] == \"UK\"]['converted'].mean()"
   ]
  },
  {
   "cell_type": "markdown",
   "metadata": {},
   "source": [
    "`i)` Do you see evidence that the `converted` rate might differ from one country to the next?"
   ]
  },
  {
   "cell_type": "code",
   "execution_count": 25,
   "metadata": {},
   "outputs": [],
   "source": [
    "#yes"
   ]
  },
  {
   "cell_type": "markdown",
   "metadata": {},
   "source": [
    "`j)` Consider the table below, fill in the conversion rates below to look at how conversion by country and treatment group vary.  The `US` column is done for you, and two methods for calculating the probabilities are shown - **COMPLETE THE REST OF THE TABLE**.  Does it appear that there could be an interaction between how country and treatment impact conversion?\n",
    "\n",
    "These two values that are filled in can be written as:\n",
    "\n",
    "$P(\\text{converted} == 1|(\\text{country} ==\\text{\"US\" AND }\\text{group} ==\\text{\"control\"})) = 10.7\\%$\n",
    "\n",
    "$P(\\text{converted} == 1|(\\text{country} ==\\text{\"US\" AND }\\text{group} ==\\text{\"treatment\"})) = 15.8\\%$\n",
    "\n",
    "|             | US          | UK          | CA          |\n",
    "| ----------- | ----------- | ----------- | ----------- |\n",
    "| Control     | 10.7%       |  %          |  %          |\n",
    "| Treatment   | 15.8%       |  %          |  %          |"
   ]
  },
  {
   "cell_type": "code",
   "execution_count": 26,
   "metadata": {},
   "outputs": [
    {
     "name": "stdout",
     "output_type": "stream",
     "text": [
      "0.10731404958677686\n",
      "0.1577687626774848\n"
     ]
    }
   ],
   "source": [
    "# Method 1  - explicitly calculate each probability\n",
    "print(df.query('country == \"US\" and group == \"control\" and converted == 1').shape[0]/df.query('country == \"US\" and group == \"control\"').shape[0]) \n",
    "print(df.query('country == \"US\" and group == \"treatment\" and converted == 1').shape[0]/df.query('country == \"US\" and group == \"treatment\"').shape[0])"
   ]
  },
  {
   "cell_type": "code",
   "execution_count": 27,
   "metadata": {},
   "outputs": [
    {
     "data": {
      "text/plain": [
       "group\n",
       "control      0.107314\n",
       "treatment    0.157769\n",
       "Name: converted, dtype: float64"
      ]
     },
     "execution_count": 27,
     "metadata": {},
     "output_type": "execute_result"
    }
   ],
   "source": [
    "# Method 2 - quickly calculate using `groupby`\n",
    "df.query('country == \"US\"').groupby('group')['converted'].mean()"
   ]
  },
  {
   "cell_type": "markdown",
   "metadata": {},
   "source": [
    "##### Solution -- Complete the Table Here\n",
    "\n",
    "|             | US          | UK          | CA          |\n",
    "| ----------- | ----------- | ----------- | ----------- |\n",
    "| Control     | 10.7%       |  %          |  %          |\n",
    "| Treatment   | 15.8%       |  %          |  %          |"
   ]
  },
  {
   "cell_type": "code",
   "execution_count": 28,
   "metadata": {},
   "outputs": [
    {
     "name": "stdout",
     "output_type": "stream",
     "text": [
      "UK Control group - 0.10164866401364411\n",
      "UK Treatment group - 0.148698035632709\n",
      "CA Control group - 0.0944741532976827\n",
      "CA Treatment group - 0.15401662049861495\n"
     ]
    }
   ],
   "source": [
    "print(\"UK Control group -\", df.loc[(df['group'] == \"control\") & (df['country'] == 'UK') ]['converted'].mean())\n",
    "print(\"UK Treatment group -\",df.loc[(df['group'] == \"treatment\") & (df['country'] == 'UK') ]['converted'].mean())\n",
    "print(\"CA Control group -\",df.loc[(df['group'] == \"control\") & (df['country'] == 'CA') ]['converted'].mean())\n",
    "print(\"CA Treatment group -\",df.loc[(df['group'] == \"treatment\") & (df['country'] == 'CA') ]['converted'].mean())"
   ]
  },
  {
   "cell_type": "code",
   "execution_count": 32,
   "metadata": {},
   "outputs": [
    {
     "data": {
      "text/html": [
       "<div>\n",
       "<style scoped>\n",
       "    .dataframe tbody tr th:only-of-type {\n",
       "        vertical-align: middle;\n",
       "    }\n",
       "\n",
       "    .dataframe tbody tr th {\n",
       "        vertical-align: top;\n",
       "    }\n",
       "\n",
       "    .dataframe thead th {\n",
       "        text-align: right;\n",
       "    }\n",
       "</style>\n",
       "<table border=\"1\" class=\"dataframe\">\n",
       "  <thead>\n",
       "    <tr style=\"text-align: right;\">\n",
       "      <th>country</th>\n",
       "      <th>CA</th>\n",
       "      <th>UK</th>\n",
       "      <th>US</th>\n",
       "    </tr>\n",
       "    <tr>\n",
       "      <th>group</th>\n",
       "      <th></th>\n",
       "      <th></th>\n",
       "      <th></th>\n",
       "    </tr>\n",
       "  </thead>\n",
       "  <tbody>\n",
       "    <tr>\n",
       "      <th>control</th>\n",
       "      <td>9.4</td>\n",
       "      <td>10.2</td>\n",
       "      <td>10.7</td>\n",
       "    </tr>\n",
       "    <tr>\n",
       "      <th>treatment</th>\n",
       "      <td>15.4</td>\n",
       "      <td>14.9</td>\n",
       "      <td>15.8</td>\n",
       "    </tr>\n",
       "  </tbody>\n",
       "</table>\n",
       "</div>"
      ],
      "text/plain": [
       "country      CA    UK    US\n",
       "group                      \n",
       "control     9.4  10.2  10.7\n",
       "treatment  15.4  14.9  15.8"
      ]
     },
     "execution_count": 32,
     "metadata": {},
     "output_type": "execute_result"
    }
   ],
   "source": [
    "# or you can also write it as:\n",
    "#unstack the country and move it as column index\n",
    "\n",
    "df.groupby(['group', 'country'])['converted'].mean().unstack(['country']).mul(100).round(1)"
   ]
  },
  {
   "cell_type": "markdown",
   "metadata": {},
   "source": [
    "<a id='experimentation'></a>\n",
    "### Part III - Experimentation\n",
    "\n",
    "`1.` Consider you need to make the decision just based on all the data provided.  If you want to assume that the control page is better unless the treatment page proves to be definitely better at a Type I error rate of 5%, you state your null and alternative hypotheses in terms of **$p_{control}$** and **$p_{treatment}$** as:  \n",
    "\n",
    "$H_{0}: p_{control} >= p_{treatment}$\n",
    "\n",
    "$H_{1}: p_{control} < p_{treatment}$\n",
    "\n",
    "Which is equivalent to:\n",
    "\n",
    "$H_{0}: p_{treatment} - p_{control} <= 0$\n",
    "\n",
    "$H_{1}: p_{treatment} - p_{control} > 0$\n",
    "\n",
    "\n",
    "Where  \n",
    "* **$p_{control}$** is the `converted` rate for the control page\n",
    "* **$p_{treatment}$** `converted` rate for the treatment page\n",
    "\n",
    "**Note for this experiment we are not looking at differences associated with country.**"
   ]
  },
  {
   "cell_type": "markdown",
   "metadata": {},
   "source": [
    "Assume under the null hypothesis, $p_{treatment}$ and $p_{control}$ both have \"true\" success rates equal to the **converted** success rate regardless of page - that is $p_{treatment}$ and $p_{control}$ are equal. Furthermore, assume they are equal to the **converted** rate in `df` regardless of the page. **These are set in the first cell below.**<br><br>\n",
    "\n",
    "* Use a sample size for each page equal to the ones in `df`. **These are also set below.**  <br><br>\n",
    "\n",
    "* Perform the sampling distribution for the difference in `converted` between the two pages over 500 iterations of calculating an estimate from the null.  <br><br>\n",
    "\n",
    "* Use the cells below to provide the necessary parts of this simulation.  \n"
   ]
  },
  {
   "cell_type": "markdown",
   "metadata": {},
   "source": [
    "`a)` The **convert rate** for $p_{treatment}$ under the null.  The **convert rate** for $p_{control}$ under the null. The sample size for the `control` and the sample size for the `treatment` are from the original dataset. **All of these values are set below, and set the stage for the simulations you will run for the rest of this section.**"
   ]
  },
  {
   "cell_type": "markdown",
   "metadata": {},
   "source": [
    "Just before we dive into the analysis, I wanted to provide some details about P-value:\n",
    "\n",
    "**p-value\n",
    "Hypothesis tests assume that the Null is true and then determine whether our actual statistic is consistent with that assumption**\n",
    "\n",
    "We are using a sample of data to evaluate the effect of a new webpage on the rate at which users convert (where \"convert\" could be sign up, buy something, etc (this is not specified (and doesn't need to be))).\n",
    "\n",
    "If we had taken a different sample, our statistics would likely be different. It is this sampling variation that is the only reason that we need to perform hypothesis tests\n",
    "\n",
    "We simulate the sampling distribution (the distribution of all possible sample results that we could have taken) under the assumption that the Null hypothesis is True\n",
    "\n",
    "If it is likely that our actual sample statistic (from the one sample of data that we have) comes from this simulated sampling distribution (which assumes that the Null is True), this is evidence in favor of the Null: Do not reject the Null hypothesis"
   ]
  },
  {
   "cell_type": "code",
   "execution_count": 34,
   "metadata": {},
   "outputs": [
    {
     "data": {
      "text/plain": [
       "(0.13047832992316388, 35211, 34678)"
      ]
     },
     "execution_count": 34,
     "metadata": {},
     "output_type": "execute_result"
    }
   ],
   "source": [
    "p_control_treatment_null  = df['converted'].mean()\n",
    "n_treatment = df.query('group == \"treatment\"').shape[0]\n",
    "n_control = df.query('group == \"control\"').shape[0]\n",
    "p_control_treatment_null, n_treatment, n_control"
   ]
  },
  {
   "cell_type": "markdown",
   "metadata": {},
   "source": [
    "`b)` Use the results from part `a)` to simulate `n_treatment` transactions with a convert rate of `p_treatment_null`.  Store these $n_{treatment}$ 1's and 0's in a `list` of **treatment_converted**.  It should look something like the following (the 0's and and 1's **don't** need to be the same): \n",
    "\n",
    "`[0, 0, 1, 1, 0, ....]` "
   ]
  },
  {
   "cell_type": "code",
   "execution_count": 35,
   "metadata": {},
   "outputs": [
    {
     "data": {
      "text/plain": [
       "0.12941978359035528"
      ]
     },
     "execution_count": 35,
     "metadata": {},
     "output_type": "execute_result"
    }
   ],
   "source": [
    "treatment_converted = np.random.choice([0,1], n_treatment, replace = True, p = [(1-p_control_treatment_null),p_control_treatment_null] )\n",
    "p_treatment_null = treatment_converted.mean()\n",
    "p_treatment_null"
   ]
  },
  {
   "cell_type": "markdown",
   "metadata": {},
   "source": [
    "`c)` Use the results from part `a)` to simulate `n_control` transactions with a convert rate of `p_control_null`.  Store these $n_{treatment}$ 1's and 0's in a `list` of **control_converted**.  It should look something like the following (the 0's and and 1's **don't** need to be exactly the same): \n",
    "\n",
    "`[0, 0, 1, 1, 0, ....]` "
   ]
  },
  {
   "cell_type": "code",
   "execution_count": 38,
   "metadata": {},
   "outputs": [
    {
     "data": {
      "text/plain": [
       "0.13169732971913028"
      ]
     },
     "execution_count": 38,
     "metadata": {},
     "output_type": "execute_result"
    }
   ],
   "source": [
    "control_converted = np.random.choice([0,1], n_control, replace = True, p = [(1-p_control_treatment_null),p_control_treatment_null] )\n",
    "p_control_null = control_converted.mean()\n",
    "p_control_null"
   ]
  },
  {
   "cell_type": "markdown",
   "metadata": {},
   "source": [
    "`d)` Find the estimate for $p_{treatment}$ - $p_{control}$ under the null using the simulated values from part `(b)` and `(c)`."
   ]
  },
  {
   "cell_type": "code",
   "execution_count": 39,
   "metadata": {},
   "outputs": [
    {
     "data": {
      "text/plain": [
       "-0.00227754612877501"
      ]
     },
     "execution_count": 39,
     "metadata": {},
     "output_type": "execute_result"
    }
   ],
   "source": [
    "p_treatment_null - p_control_null"
   ]
  },
  {
   "cell_type": "markdown",
   "metadata": {},
   "source": [
    "`e)` Simulate 500 $p_{treatment}$ - $p_{control}$ values using this same process as `b)`- `d)` similarly to the one you calculated in parts **a. through g.** above.  Store all 500 values in an numpy array called **p_diffs**.  This array should look similar to the below **(the values will not match AND this will likely take a bit of time to run)**:\n",
    "\n",
    "`[0.001, -0.003, 0.002, ...]`"
   ]
  },
  {
   "cell_type": "code",
   "execution_count": 40,
   "metadata": {},
   "outputs": [
    {
     "data": {
      "text/plain": [
       "[-0.004191273355494213,\n",
       " -0.0017231276929214057,\n",
       " 0.005557803817254681,\n",
       " -0.0009396804099257028,\n",
       " 0.0013637926475393858,\n",
       " 0.007591270081910323,\n",
       " -0.00014889352446234572,\n",
       " -0.004462180195515447,\n",
       " 0.0009478291540177541,\n",
       " 0.001470818825722947,\n",
       " -0.00016021577441940882,\n",
       " -0.0030325121179727854,\n",
       " 0.002445183402587592,\n",
       " 0.00041867428175729193,\n",
       " 0.0028187242886751895,\n",
       " -0.0050685974463074435,\n",
       " -0.00012087576726299565,\n",
       " -0.0014740193575733807,\n",
       " 0.0001386277448448825,\n",
       " -0.0026519870620743957,\n",
       " -0.0028157866459558034,\n",
       " -0.002586019907514475,\n",
       " 0.0003474689998393121,\n",
       " -0.000706340508622727,\n",
       " 0.0009198384228038536,\n",
       " -0.00026770548920154735,\n",
       " -0.0029272860342128004,\n",
       " -0.0019363070280621342,\n",
       " -0.003962762096921563,\n",
       " -0.004390511376998862,\n",
       " -0.0012123332923996144,\n",
       " -0.0007622949450651062,\n",
       " 0.0015088222750543612,\n",
       " 0.0003042814751206546,\n",
       " -0.00022528288176751343,\n",
       " -0.001592885374283426,\n",
       " -0.0004918246156570272,\n",
       " -0.0006002414036363757,\n",
       " -0.0012206269940498726,\n",
       " -0.0038605105094974834,\n",
       " -0.0002606942934053613,\n",
       " 0.003377971367259147,\n",
       " 0.0013367019635372457,\n",
       " 0.0038048746520955024,\n",
       " -0.0030622488916393353,\n",
       " -0.0016549239333247534,\n",
       " -0.000186869947808338,\n",
       " 0.0019374445763579995,\n",
       " -0.00206431274166341,\n",
       " -0.0037844765848492057,\n",
       " -0.000819968397974713,\n",
       " 0.001986387817004165,\n",
       " -0.001347759686424782,\n",
       " 0.002200030688743526,\n",
       " -0.0014788480003036786,\n",
       " 0.0015918403695134309,\n",
       " 0.0024106179861906885,\n",
       " 0.00025967631462081586,\n",
       " -0.00046039585150861595,\n",
       " -0.00039219209191199145,\n",
       " 0.0037734188619616693,\n",
       " -0.00197782958828438,\n",
       " -0.00046386091042857625,\n",
       " 0.0031123296805814216,\n",
       " 0.003017935284194445,\n",
       " -0.0036079641412149477,\n",
       " -0.0008396384015529335,\n",
       " -0.0008326812577275633,\n",
       " -0.0026248963780722834,\n",
       " -0.0007286295758799355,\n",
       " 0.001688390292980818,\n",
       " -0.0042039321632762194,\n",
       " 0.002146749367951062,\n",
       " -5.555887429176121e-06,\n",
       " -0.0004429084009962836,\n",
       " 0.0013091477429365561,\n",
       " -0.001593321884896609,\n",
       " -0.002036376062420353,\n",
       " 0.0038883022311823057,\n",
       " 0.0012680616933274658,\n",
       " 0.001510131806893883,\n",
       " 0.004331819945304682,\n",
       " -0.0014508842950752276,\n",
       " 0.0010649221022897004,\n",
       " 0.0010203709937606775,\n",
       " -0.0019323784325435966,\n",
       " 0.000985832603349196,\n",
       " 0.0032634974826662166,\n",
       " 0.0012899412759569684,\n",
       " 0.001495263420060594,\n",
       " -0.0003433029032366697,\n",
       " 0.003437854399220036,\n",
       " -0.0013320453043505764,\n",
       " 0.0011977294326358523,\n",
       " 0.0058675871278336955,\n",
       " 0.0022057323527001904,\n",
       " 0.006553120903551618,\n",
       " -0.00022400037591344124,\n",
       " -0.0009130262365367181,\n",
       " 0.0019723924513972424,\n",
       " -0.0019585960953193426,\n",
       " -0.0010366668440062732,\n",
       " 0.0005939312455228996,\n",
       " -0.000137053685935834,\n",
       " 0.0004374712641091183,\n",
       " -0.0020285188713832503,\n",
       " -0.000575742757327885,\n",
       " -0.00043985282670408465,\n",
       " -0.005067724425081077,\n",
       " -0.00531808824029778,\n",
       " 0.004377244075060044,\n",
       " 0.0012803110164817388,\n",
       " 0.003457497376812807,\n",
       " -5.992398042359293e-06,\n",
       " 0.00029683376871131317,\n",
       " -0.002367984903657999,\n",
       " -0.0003332361331482847,\n",
       " 0.003732332812352579,\n",
       " -0.002486414409754889,\n",
       " -0.0010786259148416744,\n",
       " -0.0020363490364349313,\n",
       " 0.00285981033828428,\n",
       " -0.004317560052628205,\n",
       " -0.004880735726730673,\n",
       " -0.0016278332493226688,\n",
       " -0.004086402704391118,\n",
       " 0.000713616231488412,\n",
       " -0.0021635087547952625,\n",
       " -0.0002956421684446042,\n",
       " -0.0015282277515630271,\n",
       " 9.579565278311497e-05,\n",
       " 0.0006712476760252772,\n",
       " -8.24628333038202e-05,\n",
       " -0.004011268826954573,\n",
       " -0.0033615559475022316,\n",
       " -9.555815169903781e-05,\n",
       " -0.002530501981685307,\n",
       " 0.004473793998527459,\n",
       " 0.0021926100083196065,\n",
       " 0.0005195893113563999,\n",
       " 0.0005908216192598015,\n",
       " -0.0021862613586511037,\n",
       " 0.004783959767748758,\n",
       " -0.003249674100602923,\n",
       " 0.000600451878735031,\n",
       " -0.004555674544690663,\n",
       " 0.0003553532168618645,\n",
       " 0.0010378314182875603,\n",
       " 0.005050092017010538,\n",
       " 0.0009486751492586432,\n",
       " 0.00011983076249300062,\n",
       " -0.000763167966291417,\n",
       " 0.006575382944823405,\n",
       " 0.00176401473300139,\n",
       " 0.0025793002647732655,\n",
       " -0.001564948695040369,\n",
       " 0.005652607698269391,\n",
       " 0.0023590827078509014,\n",
       " -0.001951175414895423,\n",
       " 0.001937471602343449,\n",
       " -0.0016702018047858314,\n",
       " -0.0008863720631477889,\n",
       " -0.0025034383236685886,\n",
       " 0.0007271750864822069,\n",
       " -0.004079418534580326,\n",
       " 0.00010327038517790599,\n",
       " -0.0010293002155531972,\n",
       " -0.0010445510610287978,\n",
       " 0.0013047826368048077,\n",
       " -0.0036560613866201963,\n",
       " -0.008263853496791276,\n",
       " 0.00365717190893064,\n",
       " 0.00042743152000615514,\n",
       " -0.0034817314960517987,\n",
       " -0.005619550823241087,\n",
       " -0.0016007425653205287,\n",
       " -0.003283339469788066,\n",
       " -0.0017396880702365003,\n",
       " 0.001766143234096379,\n",
       " -7.326908444177382e-05,\n",
       " 0.0004305411462692532,\n",
       " 0.003046362526021501,\n",
       " -0.004135345945037283,\n",
       " -0.00014098228145437153,\n",
       " -0.003948357246686879,\n",
       " 0.003968701261962332,\n",
       " -0.0027030858298009997,\n",
       " 0.0021205046791898663,\n",
       " 0.002446465908441664,\n",
       " 0.0028235259054200934,\n",
       " -0.0020735064905254563,\n",
       " -0.0021276878585297088,\n",
       " 0.0009093891940731569,\n",
       " 0.0039363724506021325,\n",
       " 0.0019558050480966704,\n",
       " 0.00254828098525256,\n",
       " -0.002704422387625971,\n",
       " 0.0021209682157884435,\n",
       " -0.002414309080625121,\n",
       " -0.0004302495932142769,\n",
       " -0.004068069258637841,\n",
       " -0.0004817578455686422,\n",
       " 0.0005633484766154051,\n",
       " -0.0034734107684161186,\n",
       " 0.0009561228556680124,\n",
       " 0.00217253052011368,\n",
       " 0.0009351433202502979,\n",
       " -0.0019577501000784536,\n",
       " 0.00015218659983864957,\n",
       " 0.0033233805146271334,\n",
       " -0.0009803029229361604,\n",
       " -0.0047326505249234985,\n",
       " 0.001748709835554918,\n",
       " -0.0014806210687418053,\n",
       " -0.0028700490919163213,\n",
       " -0.0005412043669163757,\n",
       " 0.004309503852062024,\n",
       " -0.001112291284026845,\n",
       " 0.005180280283677646,\n",
       " -0.005437827278234192,\n",
       " -0.002062566699210705,\n",
       " -0.00024669892779841107,\n",
       " 0.0007774008329824722,\n",
       " -0.0027988167840129197,\n",
       " -0.0021635087547952625,\n",
       " -0.0016260872068699361,\n",
       " -0.0015273547303366886,\n",
       " -0.0015439421336372328,\n",
       " 0.0008617554852664577,\n",
       " -0.0006556782515092785,\n",
       " 1.4553083669821554e-06,\n",
       " -0.004064140663119303,\n",
       " -0.0019271403051855096,\n",
       " 0.0014559504388896305,\n",
       " 0.0005012828915886003,\n",
       " 0.003308539153779294,\n",
       " -0.004488343806320377,\n",
       " -0.00015626015291542172,\n",
       " -0.0008509876774953906,\n",
       " 0.0018963855527343587,\n",
       " 0.0007695436419453694,\n",
       " 0.0033413315017380985,\n",
       " 0.002896067745163017,\n",
       " 0.003911873804293642,\n",
       " 0.0017836306846087113,\n",
       " 0.0001513406045977328,\n",
       " -0.004615994087264735,\n",
       " 0.0011522782768950413,\n",
       " 0.005046163421492,\n",
       " -0.002179223136869468,\n",
       " -0.0030382408079148715,\n",
       " 0.005520209852550972,\n",
       " 0.002538214215164175,\n",
       " 0.0004200378655676573,\n",
       " -0.004379598611669561,\n",
       " -0.00044072584793042324,\n",
       " 0.005991227735303223,\n",
       " 0.0030537832064454207,\n",
       " 0.0018583821034029169,\n",
       " 0.0015035841476963019,\n",
       " -0.0029110810895545403,\n",
       " 0.004554193029307485,\n",
       " -0.0003467949881420518,\n",
       " -0.0033969673591400518,\n",
       " -0.0015032925946413256,\n",
       " -0.0018222696540823868,\n",
       " -0.0015234531608035728,\n",
       " 0.0007263020652558683,\n",
       " 0.0012728903360578192,\n",
       " -0.0010528447626790838,\n",
       " -0.00245626815146055,\n",
       " 0.0012213550577180043,\n",
       " 0.0004956082536173578,\n",
       " 0.002048889912644153,\n",
       " 0.001083692058656105,\n",
       " -0.0008938197695571304,\n",
       " -0.0021617627123425853,\n",
       " -0.0004993263740372678,\n",
       " -0.004157171475695914,\n",
       " -0.0015557549461783227,\n",
       " -0.000819968397974713,\n",
       " 0.00025793027216811093,\n",
       " -7.021351014957489e-05,\n",
       " 0.0010548823581867373,\n",
       " 0.001886782319244551,\n",
       " 0.0021808242217639384,\n",
       " -0.00833849681164378,\n",
       " -0.005025409921588786,\n",
       " -0.0029490845388859543,\n",
       " 0.00201394203760491,\n",
       " 0.0020174070965248425,\n",
       " 7.530667994945506e-05,\n",
       " -0.00020610344077337528,\n",
       " -0.0019188195775498018,\n",
       " 0.002376543132377784,\n",
       " 0.0013179320071708411,\n",
       " -0.0017519373933907734,\n",
       " -0.0012210905306484776,\n",
       " 0.006043199524256165,\n",
       " -0.0009278675973846129,\n",
       " 0.0024534500782524282,\n",
       " -0.000608481053315818,\n",
       " 0.0050479094639446775,\n",
       " 0.0008875366374290761,\n",
       " 0.004648150915081278,\n",
       " 0.000762122961521422,\n",
       " -0.0006285875675071662,\n",
       " 0.0011037985728474808,\n",
       " -0.0006495941289103024,\n",
       " -0.0005831634377518047,\n",
       " -0.0018825891966564867,\n",
       " -2.2143290729748077e-05,\n",
       " 0.003801765025832432,\n",
       " -0.0017637231799464415,\n",
       " 0.0009167828485116547,\n",
       " 0.004612302992830247,\n",
       " 0.00212184123701481,\n",
       " 0.0009268496186000397,\n",
       " 0.0018714503958126572,\n",
       " 0.005905590577165137,\n",
       " 0.00046374297885576343,\n",
       " -0.0028053644432105007,\n",
       " -0.0017121608756212325,\n",
       " -0.00037342213554555914,\n",
       " 0.003098361340959893,\n",
       " -0.004650068941077612,\n",
       " -0.0005552267585087478,\n",
       " 0.001014259845176252,\n",
       " 0.0006878350793258214,\n",
       " -0.0023872454226084305,\n",
       " 0.003242981483847135,\n",
       " 0.003795680903233456,\n",
       " 0.00014561191465561896,\n",
       " 0.0013764514553213925,\n",
       " -0.00034813154596699536,\n",
       " 0.0034050890772466813,\n",
       " 0.00044931110263565777,\n",
       " 0.007432245088788397,\n",
       " -0.0029097715577150185,\n",
       " 0.0012794650212407943,\n",
       " -0.0018663842519982543,\n",
       " 0.0005681230673748594,\n",
       " 0.000767824625478114,\n",
       " 4.5108826591810924e-06,\n",
       " 0.0010723698086990696,\n",
       " -0.0015199070239273471,\n",
       " -0.0035411239654286886,\n",
       " 0.001659144081898295,\n",
       " 0.0002605223098617049,\n",
       " 0.0010251726105055536,\n",
       " -0.004806911381133677,\n",
       " -0.000665308510984508,\n",
       " -0.0012516462735705502,\n",
       " 0.0016010070923900555,\n",
       " 0.0006428474601836154,\n",
       " 0.001407034224228887,\n",
       " 0.0010330298015426564,\n",
       " 0.0021694749458214535,\n",
       " -0.0005927936972270342,\n",
       " 0.002495409149087857,\n",
       " 0.0010115867295263647,\n",
       " -0.0020132139739367783,\n",
       " -0.004003384609932048,\n",
       " 0.0022118164752991942,\n",
       " -0.0005704505779989544,\n",
       " 0.0016683108047748918,\n",
       " -0.0019349704702371906,\n",
       " 0.003372760265886482,\n",
       " -0.0005835729223795383,\n",
       " -0.0009379073414875483,\n",
       " 0.0020895124256546105,\n",
       " 0.0031170772453554263,\n",
       " -0.002397721677324577,\n",
       " 0.0009220480018551358,\n",
       " 0.0018146769901148385,\n",
       " -0.0015452516654767823,\n",
       " -0.0007863300547749918,\n",
       " 0.0026491960148517235,\n",
       " 0.0011715117698600508,\n",
       " 0.0013379844693913456,\n",
       " -0.0014823400852090607,\n",
       " -0.0025064938979607876,\n",
       " 0.0019675908346523385,\n",
       " -0.0021718024564455485,\n",
       " 0.0028632753972042124,\n",
       " -0.0009541122861458085,\n",
       " 0.0019165190929111564,\n",
       " 0.0011588259360926223,\n",
       " -0.004172066888514625,\n",
       " -0.002483768320090396,\n",
       " -0.0022552570615177736,\n",
       " 0.0007660515570399873,\n",
       " 0.0073797827372514,\n",
       " -0.001977802562298958,\n",
       " 0.001568678281029856,\n",
       " 0.0010067851127814609,\n",
       " 0.0003837534327034986,\n",
       " 0.00016921051375237695,\n",
       " 0.0005947772407637886,\n",
       " 0.005474785722795639,\n",
       " 3.422063034036471e-05,\n",
       " 0.001778392557250652,\n",
       " -0.002447510913211659,\n",
       " -1.7341673984844208e-05,\n",
       " -0.002182278711161667,\n",
       " -0.0001453744135715418,\n",
       " -0.004400578147087275,\n",
       " -0.0006840784673509126,\n",
       " -0.001280073515397634,\n",
       " 0.0004475650601829806,\n",
       " -0.0023749690734687634,\n",
       " 0.0018858822720327906,\n",
       " 0.0004602238679649595,\n",
       " -0.0014845496642603706,\n",
       " -0.005829728636060488,\n",
       " -0.001444309609892197,\n",
       " 0.0016381375204951587,\n",
       " -0.0010130682449095152,\n",
       " 0.0003667295187897712,\n",
       " 0.00011418315050720773,\n",
       " 0.003087421549645142,\n",
       " 0.0008032090111305124,\n",
       " 0.0029773397971693816,\n",
       " 0.0009342973250094089,\n",
       " 0.0002600857992485217,\n",
       " 0.0029541777086858068,\n",
       " 0.0034234225229999304,\n",
       " 0.0032071605875815257,\n",
       " -0.0005573822855891863,\n",
       " -0.0029150096850730778,\n",
       " -0.0010615749749425252,\n",
       " -0.0010021825055656353,\n",
       " -0.0037945433549375907,\n",
       " -0.0017681153120636117,\n",
       " -0.001076906898374419,\n",
       " 0.001229594707397419,\n",
       " 0.0007109971678093963,\n",
       " 0.00040124088321583096,\n",
       " -0.0022120154848282725,\n",
       " 0.0005213623797945544,\n",
       " -0.00027425314839915615,\n",
       " 0.0009596149405734222,\n",
       " -0.00010297883212295744,\n",
       " -0.0008470861079622749,\n",
       " -0.001221500015276239,\n",
       " -0.003785840168659571,\n",
       " 0.0008473506350318016,\n",
       " -0.0010764163357903922,\n",
       " -0.00013006951612506978,\n",
       " -0.0005949492243074728,\n",
       " 0.0038686862795749843,\n",
       " 0.0011077271683660184,\n",
       " -0.004399268615247753,\n",
       " 0.00022079984406300768,\n",
       " -0.0002856294503270629,\n",
       " 0.002198748182889454,\n",
       " -0.001958159584706215,\n",
       " 0.0018683948215204582,\n",
       " -0.0013569534352868284,\n",
       " -0.002720573280313332,\n",
       " 0.001558611510941471,\n",
       " -0.0011607709880744055,\n",
       " -0.0005810079106713661,\n",
       " 0.001768789323760872,\n",
       " 0.001038294954886193,\n",
       " -0.00038436192686031045,\n",
       " 0.00023738724736355188,\n",
       " 0.004002776115775236,\n",
       " 0.0033989509026768616,\n",
       " -0.0016553334179525148,\n",
       " -0.0006085080793012398,\n",
       " -0.0010375668912180613,\n",
       " 0.0024578422103695707,\n",
       " 0.004312559426354223,\n",
       " -0.004782030276182847,\n",
       " -0.0033427859911357993,\n",
       " -0.0002244098605412026,\n",
       " 3.6108354474206905e-06,\n",
       " 0.0004138996909978099,\n",
       " 0.0005240354954444415,\n",
       " -0.0011909712983395881,\n",
       " -0.000763167966291417,\n",
       " 0.001825153244830957,\n",
       " 0.002381344749122688,\n",
       " 0.0019846688005369095,\n",
       " 0.004201577626666703,\n",
       " 0.004454997016175605,\n",
       " 0.002273445549712788,\n",
       " -0.001978648557539875,\n",
       " -0.004255057956988245,\n",
       " 0.00041564573345048705,\n",
       " 0.0015014015946304415,\n",
       " 9.055752542505568e-05,\n",
       " 0.004824172796131482,\n",
       " -0.004326699749519408,\n",
       " -0.0039758574153167525,\n",
       " 0.0029974463113607297,\n",
       " 0.001528465252647132,\n",
       " 0.005830866184356354,\n",
       " -0.00016897301266827203]"
      ]
     },
     "execution_count": 40,
     "metadata": {},
     "output_type": "execute_result"
    }
   ],
   "source": [
    "p_diffs = []\n",
    "for _ in range(500):\n",
    "    # simulate the treatment and control converted arrays\n",
    "    treatment_converted = np.random.choice([0,1], n_treatment, replace = True, p = [(1-p_control_treatment_null),p_control_treatment_null] )\n",
    "    control_converted = np.random.choice([0,1], n_control, replace = True, p = [(1-p_control_treatment_null),p_control_treatment_null] )\n",
    "    # calculate p_treatment and p_control under the null\n",
    "    p_treatment = treatment_converted.mean()\n",
    "    p_control = control_converted.mean()\n",
    "    # calculate the difference between p_treatment_null and p_control_null\n",
    "    # add p_diff to the p_diffs array\n",
    "    p_diffs.append(p_treatment - p_control)\n",
    "\n",
    "    \n",
    "p_diffs    "
   ]
  },
  {
   "cell_type": "markdown",
   "metadata": {},
   "source": [
    "`f)` Plot a histogram of the **p_diffs**.  Does this plot look like what you expected?  Use the matching problem in the classroom to assure you fully understand what was computed here."
   ]
  },
  {
   "cell_type": "code",
   "execution_count": 41,
   "metadata": {},
   "outputs": [
    {
     "name": "stdout",
     "output_type": "stream",
     "text": [
      "0.050066728877864425\n"
     ]
    },
    {
     "data": {
      "text/plain": [
       "<matplotlib.lines.Line2D at 0x788fff04b610>"
      ]
     },
     "execution_count": 41,
     "metadata": {},
     "output_type": "execute_result"
    },
    {
     "data": {
      "image/png": "[encoded data removed]",
      "text/plain": [
       "<Figure size 640x480 with 1 Axes>"
      ]
     },
     "metadata": {},
     "output_type": "display_data"
    }
   ],
   "source": [
    "# p_diffs = pd.Series(p_diffs)\n",
    "plt.hist(p_diffs,bins=20)\n",
    "actual_diffs = (df[df['group'] == \"treatment\"]['converted'].mean()) - (df[df['group'] == \"control\"]['converted'].mean())\n",
    "print(actual_diffs)\n",
    "plt.axvline(x=actual_diffs, color='red')"
   ]
  },
  {
   "cell_type": "markdown",
   "metadata": {},
   "source": [
    "`g)` What proportion of the **p_diffs** are greater than the difference observed between `treatment` and `control` in `df`?"
   ]
  },
  {
   "cell_type": "code",
   "execution_count": 64,
   "metadata": {},
   "outputs": [
    {
     "data": {
      "text/plain": [
       "0.0"
      ]
     },
     "execution_count": 64,
     "metadata": {},
     "output_type": "execute_result"
    }
   ],
   "source": [
    "\n",
    "(np.array(p_diffs) > actual_diffs).mean()\n"
   ]
  },
  {
   "cell_type": "markdown",
   "metadata": {},
   "source": [
    "`h)` In words, explain what you just computed in part `g)`  What is this value called in scientific studies?  What does this value mean in terms of whether or not there is a difference between the new and old pages using our Type I error rate of 0.05?"
   ]
  },
  {
   "cell_type": "markdown",
   "metadata": {},
   "source": [
    "We computed P-value as it is the probability of obtaining the observed statistics given that the null hypothesis i.e p_treatment - p_control = 0 is true.As the p-value came to be zero, we reject the null hypothesis as the p is less than alpha value and we can conclude from the data that thetreatment page has higher conversion rates when compared to the control page "
   ]
  },
  {
   "cell_type": "markdown",
   "metadata": {},
   "source": [
    "<a id='algorithms'></a>\n",
    "### Part IV - Algorithms\n",
    "\n",
    "`1.` In this final part, you will see that the result you acheived in the previous A/B test can also be acheived by performing regression.  All the code needed for the modeling and results of the modeling for sections `b) - f)` have been completed for you. \n",
    "\n",
    "**You will need to complete sections `a)` and `g)`.**  \n",
    "\n",
    "**Then use the code from `1.` to assist with the question `2.`   You should be able to modify the code to assist in answering each of question 2's parts.**<br><br>\n",
    "\n",
    "`a)` Since each row is either a conversion or no conversion, what type of regression should you be performing in this case?"
   ]
  },
  {
   "cell_type": "markdown",
   "metadata": {},
   "source": [
    "Logistic Regression"
   ]
  },
  {
   "cell_type": "markdown",
   "metadata": {},
   "source": [
    "The goal is to use **statsmodels** to fit the regression model you specified in part `a)` to see if there is a significant difference in conversion based on which page a customer receives.  \n",
    "\n",
    "`b)` However, you first need to create a column for the intercept, and create a dummy variable column for which page each user received.  Add an **intercept** column, as well as an **ab_page** column, which is 1 when an individual receives the **treatment** and 0 if **control**.\n",
    "\n",
    "It may be helpful to look at the [get_dummies documentation](https://pandas.pydata.org/docs/reference/api/pandas.get_dummies.html) to encode the `ab_page` column.\n",
    "\n",
    "Below you can see an example of the new columns that will need to be added (The order of columns is not important.): **This question is completed for you**\n",
    "\n",
    "##### Example DataFrame\n",
    "| intercept   | group       | ab_page     | converted   |\n",
    "| ----------- | ----------- | ----------- | ----------- |\n",
    "| 1           |  control    |  0          |  0          |\n",
    "| 1           |  treatment  |  1          |  0          |\n",
    "| 1           |  treatment  |  1          |  0          |\n",
    "| 1           |  control    |  0          |  0          |\n",
    "| 1           |  treatment  |  1          |  1          |\n",
    "| 1           |  treatment  |  1          |  1          |\n",
    "| 1           |  treatment  |  1          |  0          |\n",
    "| 1           |  control    |  0          |  1          |"
   ]
  },
  {
   "cell_type": "code",
   "execution_count": 66,
   "metadata": {},
   "outputs": [
    {
     "data": {
      "text/html": [
       "<div>\n",
       "<style scoped>\n",
       "    .dataframe tbody tr th:only-of-type {\n",
       "        vertical-align: middle;\n",
       "    }\n",
       "\n",
       "    .dataframe tbody tr th {\n",
       "        vertical-align: top;\n",
       "    }\n",
       "\n",
       "    .dataframe thead th {\n",
       "        text-align: right;\n",
       "    }\n",
       "</style>\n",
       "<table border=\"1\" class=\"dataframe\">\n",
       "  <thead>\n",
       "    <tr style=\"text-align: right;\">\n",
       "      <th></th>\n",
       "      <th>country</th>\n",
       "      <th>group</th>\n",
       "      <th>converted</th>\n",
       "      <th>intercept</th>\n",
       "      <th>ab_page</th>\n",
       "    </tr>\n",
       "  </thead>\n",
       "  <tbody>\n",
       "    <tr>\n",
       "      <th>0</th>\n",
       "      <td>UK</td>\n",
       "      <td>control</td>\n",
       "      <td>0</td>\n",
       "      <td>1</td>\n",
       "      <td>0</td>\n",
       "    </tr>\n",
       "    <tr>\n",
       "      <th>1</th>\n",
       "      <td>US</td>\n",
       "      <td>treatment</td>\n",
       "      <td>1</td>\n",
       "      <td>1</td>\n",
       "      <td>1</td>\n",
       "    </tr>\n",
       "    <tr>\n",
       "      <th>2</th>\n",
       "      <td>UK</td>\n",
       "      <td>treatment</td>\n",
       "      <td>0</td>\n",
       "      <td>1</td>\n",
       "      <td>1</td>\n",
       "    </tr>\n",
       "    <tr>\n",
       "      <th>3</th>\n",
       "      <td>UK</td>\n",
       "      <td>control</td>\n",
       "      <td>0</td>\n",
       "      <td>1</td>\n",
       "      <td>0</td>\n",
       "    </tr>\n",
       "    <tr>\n",
       "      <th>4</th>\n",
       "      <td>UK</td>\n",
       "      <td>treatment</td>\n",
       "      <td>0</td>\n",
       "      <td>1</td>\n",
       "      <td>1</td>\n",
       "    </tr>\n",
       "  </tbody>\n",
       "</table>\n",
       "</div>"
      ],
      "text/plain": [
       "  country      group  converted  intercept  ab_page\n",
       "0      UK    control          0          1        0\n",
       "1      US  treatment          1          1        1\n",
       "2      UK  treatment          0          1        1\n",
       "3      UK    control          0          1        0\n",
       "4      UK  treatment          0          1        1"
      ]
     },
     "execution_count": 66,
     "metadata": {},
     "output_type": "execute_result"
    }
   ],
   "source": [
    "df['intercept'] = 1\n",
    "df['ab_page'] = pd.get_dummies(df['group'], dtype = int)['treatment']\n",
    "df.head()"
   ]
  },
  {
   "cell_type": "markdown",
   "metadata": {},
   "source": [
    "`c)`  Create your `X` matrix and `y` response column that will be passed to your model, where you are testing if there is a difference in `treatment` vs. `control`. **This question is completed for you**"
   ]
  },
  {
   "cell_type": "code",
   "execution_count": 67,
   "metadata": {},
   "outputs": [],
   "source": [
    "X = df[['intercept', 'ab_page']]\n",
    "y = df['converted']"
   ]
  },
  {
   "cell_type": "markdown",
   "metadata": {},
   "source": [
    "`d)` Use **statsmodels** to import and fit your regression model on the `X` and `y` from part `c)`. \n",
    "\n",
    "You can find the [statsmodels documentation to assist with this exercise here](https://www.statsmodels.org/stable/discretemod.html).  **This question is completed for you**"
   ]
  },
  {
   "cell_type": "code",
   "execution_count": 68,
   "metadata": {},
   "outputs": [
    {
     "name": "stdout",
     "output_type": "stream",
     "text": [
      "Optimization terminated successfully.\n",
      "         Current function value: 0.384516\n",
      "         Iterations 6\n"
     ]
    }
   ],
   "source": [
    "import statsmodels.api as sm\n",
    "\n",
    "# Logit Model\n",
    "logit_mod = sm.Logit(y, X)\n",
    "logit_res = logit_mod.fit()"
   ]
  },
  {
   "cell_type": "markdown",
   "metadata": {},
   "source": [
    "`e)` Provide the summary of your model below. **This question is completed for you**"
   ]
  },
  {
   "cell_type": "code",
   "execution_count": 12,
   "metadata": {},
   "outputs": [
    {
     "name": "stdout",
     "output_type": "stream",
     "text": [
      "                           Logit Regression Results                           \n",
      "==============================================================================\n",
      "Dep. Variable:              converted   No. Observations:                69889\n",
      "Model:                          Logit   Df Residuals:                    69887\n",
      "Method:                           MLE   Df Model:                            1\n",
      "Date:                Tue, 07 Jan 2025   Pseudo R-squ.:                0.007175\n",
      "Time:                        06:14:07   Log-Likelihood:                -26873.\n",
      "converged:                       True   LL-Null:                       -27068.\n",
      "Covariance Type:            nonrobust   LLR p-value:                 1.810e-86\n",
      "==============================================================================\n",
      "                 coef    std err          z      P>|z|      [0.025      0.975]\n",
      "------------------------------------------------------------------------------\n",
      "intercept     -2.1402      0.017   -122.305      0.000      -2.174      -2.106\n",
      "ab_page        0.4467      0.023     19.539      0.000       0.402       0.492\n",
      "==============================================================================\n"
     ]
    }
   ],
   "source": [
    "print(logit_res.summary())"
   ]
  },
  {
   "cell_type": "markdown",
   "metadata": {},
   "source": [
    "`f)` What is the p-value associated with **ab_page**? Does it lead you to the same conclusion you drew in the **Experiment** section."
   ]
  },
  {
   "cell_type": "markdown",
   "metadata": {},
   "source": [
    " P is zero which means we can reject the null hypothesis and ab_page is statistically significant and this columns is useful in determining the conversion columns. This leads us to the same conclusion as that of experiment section."
   ]
  },
  {
   "cell_type": "markdown",
   "metadata": {},
   "source": [
    "`2. a)` Now you will want to create two new columns as dummy variables for `US` and `UK`.  Again, use `get_dummies` to add these columns.  The dataframe you create should include at least the following columns (If both columns for `US` and `UK` are `0` this represents `CA`.  The order of rows and columns is not important for you to match - it is just to illustrate how columns should connect to one another.):\n",
    "\n",
    "##### Example DataFrame\n",
    "| intercept   | group       | ab_page     | converted   | country     |  US         | UK          |\n",
    "| ----------- | ----------- | ----------- | ----------- | ----------- | ----------- | ----------- |\n",
    "| 1           |  control    |  0          |  0          |  US         |  1          |  0          |\n",
    "| 1           |  treatment  |  1          |  0          |  UK         |  0          |  1          |\n",
    "| 1           |  treatment  |  1          |  0          |  US         |  1          |  0          |\n",
    "| 1           |  control    |  0          |  0          |  US         |  1          |  0          |\n",
    "| 1           |  treatment  |  1          |  1          |  CA         |  0          |  0          |\n",
    "| 1           |  treatment  |  1          |  1          |  UK         |  0          |  1          |\n",
    "| 1           |  treatment  |  1          |  0          |  US         |  1          |  0          |\n",
    "| 1           |  control    |  0          |  1          |  US         |  1          |  0          |"
   ]
  },
  {
   "cell_type": "code",
   "execution_count": 85,
   "metadata": {},
   "outputs": [
    {
     "data": {
      "text/html": [
       "<div>\n",
       "<style scoped>\n",
       "    .dataframe tbody tr th:only-of-type {\n",
       "        vertical-align: middle;\n",
       "    }\n",
       "\n",
       "    .dataframe tbody tr th {\n",
       "        vertical-align: top;\n",
       "    }\n",
       "\n",
       "    .dataframe thead th {\n",
       "        text-align: right;\n",
       "    }\n",
       "</style>\n",
       "<table border=\"1\" class=\"dataframe\">\n",
       "  <thead>\n",
       "    <tr style=\"text-align: right;\">\n",
       "      <th></th>\n",
       "      <th>country</th>\n",
       "      <th>group</th>\n",
       "      <th>converted</th>\n",
       "      <th>intercept</th>\n",
       "      <th>ab_page</th>\n",
       "      <th>CA</th>\n",
       "      <th>UK</th>\n",
       "      <th>US</th>\n",
       "    </tr>\n",
       "  </thead>\n",
       "  <tbody>\n",
       "    <tr>\n",
       "      <th>0</th>\n",
       "      <td>UK</td>\n",
       "      <td>control</td>\n",
       "      <td>0</td>\n",
       "      <td>1</td>\n",
       "      <td>0</td>\n",
       "      <td>0</td>\n",
       "      <td>1</td>\n",
       "      <td>0</td>\n",
       "    </tr>\n",
       "    <tr>\n",
       "      <th>1</th>\n",
       "      <td>US</td>\n",
       "      <td>treatment</td>\n",
       "      <td>1</td>\n",
       "      <td>1</td>\n",
       "      <td>1</td>\n",
       "      <td>0</td>\n",
       "      <td>0</td>\n",
       "      <td>1</td>\n",
       "    </tr>\n",
       "    <tr>\n",
       "      <th>2</th>\n",
       "      <td>UK</td>\n",
       "      <td>treatment</td>\n",
       "      <td>0</td>\n",
       "      <td>1</td>\n",
       "      <td>1</td>\n",
       "      <td>0</td>\n",
       "      <td>1</td>\n",
       "      <td>0</td>\n",
       "    </tr>\n",
       "    <tr>\n",
       "      <th>3</th>\n",
       "      <td>UK</td>\n",
       "      <td>control</td>\n",
       "      <td>0</td>\n",
       "      <td>1</td>\n",
       "      <td>0</td>\n",
       "      <td>0</td>\n",
       "      <td>1</td>\n",
       "      <td>0</td>\n",
       "    </tr>\n",
       "    <tr>\n",
       "      <th>4</th>\n",
       "      <td>UK</td>\n",
       "      <td>treatment</td>\n",
       "      <td>0</td>\n",
       "      <td>1</td>\n",
       "      <td>1</td>\n",
       "      <td>0</td>\n",
       "      <td>1</td>\n",
       "      <td>0</td>\n",
       "    </tr>\n",
       "  </tbody>\n",
       "</table>\n",
       "</div>"
      ],
      "text/plain": [
       "  country      group  converted  intercept  ab_page  CA  UK  US\n",
       "0      UK    control          0          1        0   0   1   0\n",
       "1      US  treatment          1          1        1   0   0   1\n",
       "2      UK  treatment          0          1        1   0   1   0\n",
       "3      UK    control          0          1        0   0   1   0\n",
       "4      UK  treatment          0          1        1   0   1   0"
      ]
     },
     "execution_count": 85,
     "metadata": {},
     "output_type": "execute_result"
    }
   ],
   "source": [
    "### Create the necessary dummy variables\n",
    "df['intercept'] = 1\n",
    "df[['CA','UK','US']] = pd.get_dummies(df['country'], dtype = int)\n",
    "df.head()"
   ]
  },
  {
   "cell_type": "markdown",
   "metadata": {},
   "source": [
    "`b)`  Create your `X` matrix and `y` response column that will be passed to your model, where you are testing if there is \n",
    "* a difference in `converted` between `treatment` vs. `control`\n",
    "* a difference in `converted` between `US`, `UK`, and `CA`"
   ]
  },
  {
   "cell_type": "code",
   "execution_count": 86,
   "metadata": {},
   "outputs": [],
   "source": [
    "X = df[['intercept','ab_page','UK','US']]\n",
    "y = df['converted']"
   ]
  },
  {
   "cell_type": "markdown",
   "metadata": {},
   "source": [
    "`c)` Use **statsmodels** to import and fit your regression model on the `X` and `y` from part `b)`. \n",
    "You can find the [statsmodels documentation to assist with this exercise here](https://www.statsmodels.org/stable/discretemod.html)."
   ]
  },
  {
   "cell_type": "code",
   "execution_count": 87,
   "metadata": {},
   "outputs": [
    {
     "name": "stdout",
     "output_type": "stream",
     "text": [
      "Optimization terminated successfully.\n",
      "         Current function value: 0.384463\n",
      "         Iterations 6\n"
     ]
    }
   ],
   "source": [
    "import statsmodels.api as sm\n",
    "\n",
    "logit_model = sm.Logit(y, X)\n",
    "logit_result = logit_model.fit()"
   ]
  },
  {
   "cell_type": "markdown",
   "metadata": {},
   "source": [
    "`d)` Provide the summary of your model below."
   ]
  },
  {
   "cell_type": "code",
   "execution_count": 88,
   "metadata": {},
   "outputs": [
    {
     "data": {
      "text/html": [
       "<table class=\"simpletable\">\n",
       "<caption>Logit Regression Results</caption>\n",
       "<tr>\n",
       "  <th>Dep. Variable:</th>       <td>converted</td>    <th>  No. Observations:  </th>  <td> 69889</td>  \n",
       "</tr>\n",
       "<tr>\n",
       "  <th>Model:</th>                 <td>Logit</td>      <th>  Df Residuals:      </th>  <td> 69885</td>  \n",
       "</tr>\n",
       "<tr>\n",
       "  <th>Method:</th>                 <td>MLE</td>       <th>  Df Model:          </th>  <td>     3</td>  \n",
       "</tr>\n",
       "<tr>\n",
       "  <th>Date:</th>            <td>Wed, 08 Jan 2025</td> <th>  Pseudo R-squ.:     </th> <td>0.007312</td> \n",
       "</tr>\n",
       "<tr>\n",
       "  <th>Time:</th>                <td>00:15:08</td>     <th>  Log-Likelihood:    </th> <td> -26870.</td> \n",
       "</tr>\n",
       "<tr>\n",
       "  <th>converged:</th>             <td>True</td>       <th>  LL-Null:           </th> <td> -27068.</td> \n",
       "</tr>\n",
       "<tr>\n",
       "  <th>Covariance Type:</th>     <td>nonrobust</td>    <th>  LLR p-value:       </th> <td>1.778e-85</td>\n",
       "</tr>\n",
       "</table>\n",
       "<table class=\"simpletable\">\n",
       "<tr>\n",
       "      <td></td>         <th>coef</th>     <th>std err</th>      <th>z</th>      <th>P>|z|</th>  <th>[0.025</th>    <th>0.975]</th>  \n",
       "</tr>\n",
       "<tr>\n",
       "  <th>intercept</th> <td>   -2.1930</td> <td>    0.053</td> <td>  -41.308</td> <td> 0.000</td> <td>   -2.297</td> <td>   -2.089</td>\n",
       "</tr>\n",
       "<tr>\n",
       "  <th>ab_page</th>   <td>    0.4466</td> <td>    0.023</td> <td>   19.534</td> <td> 0.000</td> <td>    0.402</td> <td>    0.491</td>\n",
       "</tr>\n",
       "<tr>\n",
       "  <th>UK</th>        <td>    0.0067</td> <td>    0.056</td> <td>    0.120</td> <td> 0.905</td> <td>   -0.103</td> <td>    0.117</td>\n",
       "</tr>\n",
       "<tr>\n",
       "  <th>US</th>        <td>    0.0727</td> <td>    0.053</td> <td>    1.372</td> <td> 0.170</td> <td>   -0.031</td> <td>    0.177</td>\n",
       "</tr>\n",
       "</table>"
      ],
      "text/plain": [
       "<class 'statsmodels.iolib.summary.Summary'>\n",
       "\"\"\"\n",
       "                           Logit Regression Results                           \n",
       "==============================================================================\n",
       "Dep. Variable:              converted   No. Observations:                69889\n",
       "Model:                          Logit   Df Residuals:                    69885\n",
       "Method:                           MLE   Df Model:                            3\n",
       "Date:                Wed, 08 Jan 2025   Pseudo R-squ.:                0.007312\n",
       "Time:                        00:15:08   Log-Likelihood:                -26870.\n",
       "converged:                       True   LL-Null:                       -27068.\n",
       "Covariance Type:            nonrobust   LLR p-value:                 1.778e-85\n",
       "==============================================================================\n",
       "                 coef    std err          z      P>|z|      [0.025      0.975]\n",
       "------------------------------------------------------------------------------\n",
       "intercept     -2.1930      0.053    -41.308      0.000      -2.297      -2.089\n",
       "ab_page        0.4466      0.023     19.534      0.000       0.402       0.491\n",
       "UK             0.0067      0.056      0.120      0.905      -0.103       0.117\n",
       "US             0.0727      0.053      1.372      0.170      -0.031       0.177\n",
       "==============================================================================\n",
       "\"\"\""
      ]
     },
     "execution_count": 88,
     "metadata": {},
     "output_type": "execute_result"
    }
   ],
   "source": [
    "logit_result.summary()"
   ]
  },
  {
   "attachments": {},
   "cell_type": "markdown",
   "metadata": {},
   "source": [
    "**For all regression this p-value determines whether the new page has statistically significant effect on conversions**\n",
    "The null for regression models is that the coefficient equals zero"
   ]
  },
  {
   "cell_type": "markdown",
   "metadata": {},
   "source": [
    "`e)` What do the `p-values` associated with `US` and `UK` suggest in relation to how they impact `converted`? "
   ]
  },
  {
   "cell_type": "markdown",
   "metadata": {},
   "source": [
    "As the p values for US and UK are greater than 0.05, we can conclude that countries does not significantly influence in determining the conversion rates"
   ]
  },
  {
   "cell_type": "markdown",
   "metadata": {},
   "source": [
    "<a id='finalcheck'></a>\n",
    "## Final Check!\n",
    "\n",
    "Congratulations!  You have reached the end of the A/B Test Results project!  You should be very proud of all you have accomplished!\n"
   ]
  },
  {
   "cell_type": "code",
   "execution_count": null,
   "metadata": {},
   "outputs": [],
   "source": []
  }
 ],
 "metadata": {
  "kernelspec": {
   "display_name": "Python 3 (ipykernel)",
   "language": "python",
   "name": "python3"
  },
  "language_info": {
   "codemirror_mode": {
    "name": "ipython",
    "version": 3
   },
   "file_extension": ".py",
   "mimetype": "text/x-python",
   "name": "python",
   "nbconvert_exporter": "python",
   "pygments_lexer": "ipython3",
   "version": "3.10.13"
  },
  "vscode": {
   "interpreter": {
    "hash": "b34053042c33de92a8f6946323cebca57e40086129f2774c267076f4fb825384"
   }
  }
 },
 "nbformat": 4,
 "nbformat_minor": 2
}
